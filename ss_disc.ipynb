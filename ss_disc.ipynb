{
 "cells": [
  {
   "cell_type": "code",
   "execution_count": 1,
   "id": "40ca8232",
   "metadata": {
    "id": "40ca8232"
   },
   "outputs": [],
   "source": [
    "import numpy as np\n",
    "import matplotlib.pyplot as plt\n",
    "\n",
    "hP = 6.6260688e-27 # Planck's const / erg s\n",
    "hbar = hP/2*np.pi\n",
    "G = 6.67384e-8 # cm^3/g/s^2\n",
    "c = 2.99792458e10 # speed of light  / cm/s\n",
    "kB = 1.3806488e-16 # Boltzmann const / erg/K\n",
    "mH = 1.66053892e-24 # atomic mass unit / g\n",
    "me = 9.1093898e-28 # electron mass / g\n",
    "mp = 1.676e-24 #proton mass [g] \n",
    "mu = 0.615 #mean molecular weight\n",
    "alphaEM = 1/137.0359895 # fine structure constant\n",
    "sigmaT = 8*np.pi/3*(alphaEM*hbar/me/c)**2 # Thomson cross section / cm^2\n",
    "a_rad =  np.pi**2/15*kB*(kB/hbar/c)**3 # radiation const / erg/cm^3/K^4\n",
    "stefan = a_rad*c/4 # Stefan-Boltzmann const / erg/cm^2/s/K^4\n",
    "eV = 1.60217733e-12 # 1 electron volt / erg\n",
    "keV = 1e3*eV\n",
    "Msun = 1.98892e33 # solar mass / g\n",
    "Msun = 1.98892e33 # solar mass / g\n",
    "LEsun = 4*np.pi*c*G*Msun*mH/sigmaT # Eddington luminosity / erg/s\n",
    "MEsun = LEsun/c**2\n",
    "pc = 3.08567758e18 # 1 parsec / cm\n",
    "\n",
    "kappa_es = 0.4 # opacity by electron scattering / cm^2/g\n",
    "kappa_0 = 6.45e22 # krammers opacity at (rho,T)=(1,1) in cgs\n",
    "nu_0 = 2.4e21*15 # electron-ion coupling (Coulomb log = 15)"
   ]
  },
  {
   "cell_type": "code",
   "execution_count": 2,
   "id": "e4bdbccf",
   "metadata": {
    "id": "e4bdbccf"
   },
   "outputs": [],
   "source": [
    "def schwarz(M):\n",
    "    '''\n",
    "    give M in Msuns\n",
    "    out in cms\n",
    "    '''\n",
    "    return 2*G*(M*Msun)/(c**2)\n",
    "\n",
    "def m_edd(M):\n",
    "    '''\n",
    "    give M in MSuns\n",
    "    out in g/s\n",
    "    '''\n",
    "    epsilon = 0.1\n",
    "    return (4*np.pi*G*(M)*mH)/(epsilon*c*sigmaT)\n",
    "\n",
    "\n",
    "def omega(M,r):\n",
    "    '''\n",
    "    M in Msun\n",
    "    r in rschwarz\n",
    "    '''\n",
    "    return (G*M*Msun/((r*schwarz(M))**3))**0.5\n",
    "\n",
    "\n",
    "def domega_dr(M,r):\n",
    "    '''\n",
    "    M in Msun\n",
    "    r in rschwarz\n",
    "    '''\n",
    "    return (-1.5)*(G*M*Msun/((r*schwarz(M))**5))**0.5\n",
    "\n",
    "\n",
    "def d2omega_d2r(M,r):\n",
    "    '''\n",
    "    M in Msun\n",
    "    r in rschwarz\n",
    "    '''\n",
    "    return (15/4)*(G*M*Msun/((r*schwarz(M))**7))**0.5\n",
    "\n",
    "def sigma_ana(Mdot,r,r_star,nu):\n",
    "    '''\n",
    "    Mdot in msun/second\n",
    "    r in schwarz\n",
    "    r_star in schwarz\n",
    "    '''\n",
    "    \n",
    "    return (Mdot*Msun/(3*np.pi*nu))*(1-(r_star/r)**0.5)\n",
    "\n",
    "\n"
   ]
  },
  {
   "cell_type": "code",
   "execution_count": null,
   "id": "187fc2aa",
   "metadata": {
    "colab": {
     "base_uri": "https://localhost:8080/"
    },
    "id": "187fc2aa",
    "outputId": "e9000531-3ce9-4294-8677-e3b300799647"
   },
   "outputs": [
    {
     "data": {
      "text/plain": [
       "3.3910242427129244e-10"
      ]
     },
     "execution_count": 7,
     "metadata": {},
     "output_type": "execute_result"
    }
   ],
   "source": [
    "(m_edd(1.5))*60*60*24*365"
   ]
  },
  {
   "cell_type": "code",
   "execution_count": null,
   "id": "f485c56f",
   "metadata": {
    "id": "f485c56f"
   },
   "outputs": [],
   "source": [
    "def dsigma_dr(r,sigma,M,Mdot,nu):\n",
    "    \n",
    "    m = M*Msun\n",
    "    mdot = Mdot*Msun\n",
    "    R = r*schwarz(M)\n",
    "    \n",
    "    num = 2*mdot*R*omega(M,r) + mdot*R**2*domega_dr(M,r) - 6*np.pi*R**2*nu*sigma*domega_dr(M,r) - 2*np.pi*R**3*nu*sigma*d2omega_d2r(M,r)\n",
    "    #num = 2*(r*schwarz(M))*(Mdot*Msun) + domega_dr(M,r) - 2*np.pi*nu*(r*schwarz(M))**3*sigma*d2omega_d2r(M,r) - 4*np.pi*sigma*nu*domega_dr(M,r)*(r*schwarz(M))**2\n",
    "    \n",
    "    den = -2*np.pi*nu*domega_dr(M,r)*R**3\n",
    "    \n",
    "    return np.divide(num,den)\n"
   ]
  },
  {
   "cell_type": "code",
   "execution_count": 3,
   "id": "7f247dcb",
   "metadata": {
    "id": "7f247dcb"
   },
   "outputs": [],
   "source": [
    " class SS:\n",
    "    def __init__(self, M, M_dot, nu, r_out, r_in=3):\n",
    "        \"\"\"\n",
    "        M = mass of black hole / solar mass\n",
    "        M_dot = mass accretion rate \n",
    "        alpha = viscosity parameter (0<alpha<=1)\n",
    "        r_out = radius of disk's outer edge \n",
    "        r_in = radius of disk's inner edge \n",
    "\n",
    "        \"\"\"\n",
    "        self.rg = 2*G*M*Msun/2.99792458e10**2\n",
    "        self.M = M*Msun #grams\n",
    "        self.M_dot = M_dot*M*MEsun #grams /s\n",
    "        #self.alpha = alpha\n",
    "        self.r_in = r_in*self.rg #cm\n",
    "        self.r_out = r_out*self.rg\n",
    "        self.nu = nu \n",
    "        self.dr = 0\n",
    "        #self.H = self.p/self.sigma * (self.r_out**3)/(G*self.M)\n",
    "        #self.rho = self.sigma / self.H   \n",
    "        #self.r = np.geomspace(self.r_in, self.r_out, N+1)[1:]\n",
    "\n",
    "        self.r = np.linspace(self.r_in,self.r_out,1000)\n",
    "        self.H = 0.016*self.r\n",
    "\n",
    "        self.r_boundary = 0\n",
    "        #self.y = StandardModel.solve(self, self.r)\n",
    "        \n",
    "        #if r_out is less than 3*rg, do calculations by assuming that all values at those 'r' is 0 \n",
    "        # if r_out < 3*rg:\n",
    "        #   self.sigma = 0\n",
    "    \n",
    "        '''\n",
    "        #gas pressure\n",
    "        pgas = (self.rho*kB*self.Tc)/mH\n",
    "\n",
    "        #radiation pressure\n",
    "        prad = (4*sigmaT*(self.Tc)**4)/(3*c)\n",
    "\n",
    "        #electron scattering/mp\n",
    "        kappa = sigmaT/mp\n",
    "\n",
    "        #inner disk\n",
    "        if 3 < r_out < 5:\n",
    "          self.p = prad\n",
    "          self.kappa = kappa\n",
    "\n",
    "        #middle disk\n",
    "        if 5 < r_out < 8:\n",
    "          self.p = pgas\n",
    "          self.kappa = kappa\n",
    "\n",
    "        #outer disk:\n",
    "        if r_out > 8:\n",
    "          self.p = pgas\n",
    "          self.kappa = 6.6e22*self.rho*(self.Tc)**(-7/2)\n",
    "        '''\n",
    "    def get_kappa(self):\n",
    "\n",
    "        kappa = sigmaT/mp\n",
    "        self.kappa = kappa\n",
    "\n",
    "        return self.kappa\n",
    "\n",
    "\n",
    "    def analytical_middle(self,alpha):\n",
    "  \n",
    "        #Analytical Solution for the middle; gas pressure dominated with Kramer's Opacity\n",
    "    \n",
    "        m = self.M/Msun\n",
    "        mdot = self.M_dot/(3e-8) * (Msun/self.M)\n",
    "        r = self.r / self.rg\n",
    "        \n",
    "        #am i applying dimensionaless thingy twice? Make sure that the thing i am inputting has dimensions\n",
    "        #and then i apply the dimensionlessing thing\n",
    "        \n",
    "        sigma = 1.7e5*(alpha**(-4/5))*(mdot**(3/5))*(m*(1/5))*(r**(-3/5))*(1-r**(-1/2))**(3/5) #g/cm^2\n",
    "        Tc = 3.1e8*(alpha**(-1/5))*(mdot**(2/5))*(m**(-1/5))*(r**(-9/10))*(1-r**(-1/2))**(2/5) \n",
    "        H = 1.2e4*(alpha**(-1/10))*(mdot**(1/5))*(m**(1/5))*(r**(21/20))*(1-r**(-1/2))**(1/5)\n",
    "        rho = 4.2e24*(alpha**(-7/10))*(mdot**(2/5))*(m**(-7/10))*(r**(-33/20))*(1-r**(-1/2))**(2/5)\n",
    "        tau = 1e2*(alpha**(-4/5))*(mdot**(9/10))*(m**(1/5))*(r**(3/20))*(1-r**(-1/2))**(9/10)\n",
    "        vr = 2e6**(alpha**(4/5))*(mdot**(2/5))*(m**(-1/5))*(r**(-2/5))*(1-r**(-1/2))**(-3/5)\n",
    "    \n",
    "        \n",
    "        return (sigma,Tc,H,rho,tau,vr)\n",
    "\n",
    "    def omega(self,x):\n",
    "        '''\n",
    "        Keplerian Angular speed \n",
    "        M in Msun\n",
    "        r in rschwarz\n",
    "        '''\n",
    "        return (G*self.M/((x*self.rg)**3))**0.5\n",
    "    \n",
    "    def omegaprimes(self,x):\n",
    "        '''\n",
    "        M in Msun\n",
    "        r in rschwarz\n",
    "        '''\n",
    "        prime = (-1.5)*(G*self.M/((x*self.rg)**5))**0.5\n",
    "        doubleprime = (15/4)*(G*self.M/((x*self.rg)**7))**0.5\n",
    "        \n",
    "        return (prime,doubleprime)\n",
    "    \n",
    "    def dsigma_dr(self,x,sigma):\n",
    "        '''\n",
    "        derivative of sigma with respect to r. This is used to solved the ODE\n",
    "        '''\n",
    "    \n",
    "        m = self.M\n",
    "        mdot = self.M_dot\n",
    "        r = x*self.rg \n",
    "        \n",
    "        num = 2*mdot*r*self.omega(x) + mdot*r**2*self.omegaprimes(x)[0] - 6*np.pi*r**2*self.nu*sigma*self.omegaprimes(x)[0] - 2*np.pi*r**3*self.nu*sigma*self.omegaprimes(x)[1]\n",
    "        #num = 2*(r*schwarz(M))*(Mdot*Msun) + domega_dr(M,r) - 2*np.pi*nu*(r*schwarz(M))**3*sigma*d2omega_d2r(M,r) - 4*np.pi*sigma*nu*domega_dr(M,r)*(r*schwarz(M))**2\n",
    "        \n",
    "        den = -2*np.pi*self.nu*self.omegaprimes(x)[0]*r**3\n",
    "        \n",
    "        return np.divide(num,den)\n",
    "\n",
    "    def numerical_middle_sigma(self,a,b,N):\n",
    "        \n",
    "    \n",
    "        h = (b-a)/N\n",
    "        sigmas = np.zeros(N)\n",
    "\n",
    "        s0 = 0\n",
    "        sigmas[0] = 0\n",
    "\n",
    "        for i in range (0,N):\n",
    "            s = sigmas[i]\n",
    "            k1 = h * self.dsigma_dr(self.r[i]/self.rg,s)\n",
    "            k2 = h * self.dsigma_dr(self.r[i]/self.rg + 0.5 * h, s + 0.5 * k1)\n",
    "            k3 = h * self.dsigma_dr(self.r[i]/self.rg + 0.5 * h, s + 0.5 * k2)\n",
    "            k4 = h * self.dsigma_dr(self.r[i]/self.rg + h, s + k3)\n",
    "\n",
    "            if self.r[i] < 3*self.rg:\n",
    "              #print(\"omg\")\n",
    "              sigmas[i] = 0\n",
    "            else:\n",
    "              sigmas[i] = s + (1/6)*(k1 + 2*k2 + 2*k3 + k4)\n",
    "            #sigmas[i] = s + (1/6)*(k1 + 2*k2 + 2*k3 + k4)\n",
    "\n",
    "        \n",
    "        #self.sigma = sigmas\n",
    "\n",
    "        #adding stuff will edit later\n",
    "        #self.tau = self.sigma*self.kappa\n",
    "\n",
    "        #self.H = self.p/self.sigma * (self.r_out**3)/(G*self.M) # should the r_out be self.r_out?\n",
    "\n",
    "        #self.rho = self.sigma / self.H     \n",
    "\n",
    "        #dens = lambda z: np.exp(-z**2/)\n",
    "\n",
    "        return sigmas\n",
    "\n",
    "\n",
    "\n",
    "    def get_sigma_num(self):\n",
    "        self.get_kappa()\n",
    "        a = self.r_in\n",
    "        b = self.r_out\n",
    "        N = len(self.r)\n",
    "        self.sigma = self.numerical_middle_sigma(a,b,N)\n",
    "        self.Tau = self.kappa*self.sigma\n",
    "        return self.sigma,self.r,self.Tau\n",
    "\n",
    "    def get_rho_num(self):\n",
    "        self.rho = self.get_sigma_num()[0]/self.H\n",
    "        return self.rho\n",
    "\n",
    "    def get_bdry(self):\n",
    "\n",
    "        #gas pressure\n",
    "        #pgas = (self.rho*kB*self.Tc)/mH\n",
    "\n",
    "        #radiation pressure\n",
    "        #prad = (4*sigmaT*(self.Tc)**4)/(3*c)\n",
    "\n",
    "        self.get_rho_num()\n",
    "        self.get_tc_num()\n",
    "\n",
    "        tc = ((3*self.rho*kB*c)/(4*mu*mH*sigmaT))**(1/3)\n",
    "\n",
    "        self.r_boundary = self.r[np.argmin(np.abs(self.Tc-tc))] #boundary between gas and rad pressire dominated region\n",
    "\n",
    "        return self.r_boundary,self.r\n",
    "\n",
    "\n",
    "    def tc_num(self,x):\n",
    "        '''\n",
    "        it works! outputs a single value for a single value of x as it should\n",
    "        '''\n",
    "\n",
    "        energy = self.energy(x)[1]\n",
    "\n",
    "        location = np.argmin(np.abs(x - self.r))\n",
    "\n",
    "        tc = ((3*np.multiply(energy,self.Tau[location])) / (4*sigmaT))**(1/4)\n",
    "\n",
    "        return tc,location\n",
    "\n",
    "    def get_tc_num(self):\n",
    "\n",
    "        '''\n",
    "        works\n",
    "        '''\n",
    "\n",
    "        energy = self.get_energy()\n",
    "\n",
    "        g = ((3*np.multiply(energy,self.Tau)) / (4*sigmaT))**(1/4)\n",
    "\n",
    "        #g = np.array([self.tc_num(i)[0] for i in self.r]) works\n",
    "\n",
    "        self.Tc = g\n",
    "\n",
    "        return self.Tc\n",
    "\n",
    "    def get_energy(self):\n",
    "        '''\n",
    "        works i checked\n",
    "        '''\n",
    "\n",
    "        self.get_sigma_num()\n",
    "\n",
    "        ee = 0.5*self.nu*self.sigma*(self.r*self.omegaprimes(self.r/self.rg)[0])**2\n",
    "        return ee\n",
    "\n",
    "\n",
    "        \n",
    "    def energy(self,x):\n",
    "      '''\n",
    "      energy available to radiate\n",
    "      works\n",
    "      '''\n",
    "      self.get_sigma_num()\n",
    "      #h = 1e-3\n",
    "      r = x*self.rg\n",
    "      sig = self.sigma[np.argmin(np.abs(self.r - r))]\n",
    "      #sig = np.array([self.numerical_middle_sigma(a=r[i],b=r[i]+h) for i in range (len(r))])\n",
    "      dr = 0.5*self.nu*sig*(r*self.omegaprimes(x)[0])**2\n",
    "      return 2*np.pi*r*dr,dr \n",
    "\n",
    "    def luminosity(self,g,h):\n",
    "      '''\n",
    "      integrate d(r)*2pi r from r1 to r2 times 2. Numerical Integration.\n",
    "      checked. gives a sensible output (dimensions make sense)\n",
    "      '''\n",
    "      from numpy import ones,copy,cos,tan,pi,linspace\n",
    "      N = 10\n",
    "      a = linspace(3,4*N-1,N)/(4*N+2)\n",
    "      x = cos(pi*a+1/(8*N*N*tan(a)))\n",
    "      # Find roots using Newton's method\n",
    "      epsilon = 1e-15\n",
    "      delta = 1.0\n",
    "      while delta>epsilon:\n",
    "          p0 = ones(N,float)\n",
    "          p1 = copy(x)\n",
    "          for k in range(1,N):\n",
    "              p0,p1 = p1,((2*k+1)*x*p1-k*p0)/(k+1)\n",
    "          dp = (N+1)*(p0-x*p1)/(1-x*x)\n",
    "          dx = p1/dp\n",
    "          x -= dx\n",
    "          delta = max(abs(dx))\n",
    "      # Calculate the weights\n",
    "      w = 2*(N+1)*(N+1)/(N*N*(1-x*x)*dp*dp)\n",
    "\n",
    "      #a = self.r_in\n",
    "\n",
    "      xkprime = 0.5*(h-g)*x + 0.5*(h+g)\n",
    "      wkprime = 0.5*(h-g)*w\n",
    "\n",
    "      #print(xkprime)\n",
    "\n",
    "      #jj = np.sum(wkprime*np.array([self.energy((xkprime[i]) for i in range(len(xkprime))[0])]))\n",
    "      jj = np.sum(wkprime*np.array([self.energy(xkprime[i])[0] for i in range (len(xkprime))]))\n",
    "      #jj = np.sum(wkprime*self.energy(xkprime))\n",
    "\n",
    "      return 2*jj\n",
    "\n",
    "\n",
    "\n",
    "        \n",
    "    def schwarz(self):\n",
    "        '''\n",
    "        give M in Msuns\n",
    "        out in cms\n",
    "        '''\n",
    "        return 2*G*(self.M)/(c**2)\n",
    "\n",
    "    def m_edd(self):\n",
    "        '''\n",
    "        give M in MSuns\n",
    "        out in g/s\n",
    "        '''\n",
    "        epsilon = 0.1\n",
    "        return (4*np.pi*G*(self.M)*mH)/(epsilon*c*sigmaT)\n",
    "\n",
    "\n",
    "    def sigma_ana(Mdot,r,r_star,nu):\n",
    "        '''\n",
    "        Mdot in msun/second\n",
    "        r in schwarz\n",
    "        r_star in schwarz\n",
    "        '''\n",
    "\n",
    "        return (Mdot*Msun/(3*np.pi*nu))*(1-(r_star/r)**0.5)"
   ]
  },
  {
   "cell_type": "code",
   "execution_count": 4,
   "id": "Ye1Jm59I-hx_",
   "metadata": {
    "id": "Ye1Jm59I-hx_"
   },
   "outputs": [],
   "source": [
    "r = np.linspace(3,10,100)\n",
    "ff = SS(10,m_edd(10),0.2,8,4)\n",
    "ff2 = SS(15,m_edd(15),0.2,8,4)\n",
    "ff3 = SS(20,m_edd(20),0.2,8,4)\n",
    "ff4 = SS(25,m_edd(25),0.2,8,4)\n",
    "ff5 = SS(30,m_edd(30),0.2,8,4)\n",
    "ff6 = SS(35,m_edd(35),0.2,8,4)\n",
    "ff7 = SS(40,m_edd(40),0.2,8,4)"
   ]
  },
  {
   "cell_type": "code",
   "execution_count": 5,
   "id": "etOLZ9vp9H4e",
   "metadata": {
    "colab": {
     "base_uri": "https://localhost:8080/"
    },
    "id": "etOLZ9vp9H4e",
    "outputId": "7bb39138-4cdb-4071-e956-61c66aec81b6"
   },
   "outputs": [
    {
     "data": {
      "text/plain": [
       "2150162.5104794395"
      ]
     },
     "execution_count": 5,
     "metadata": {},
     "output_type": "execute_result"
    }
   ],
   "source": [
    "ff.luminosity(3,1e6)"
   ]
  },
  {
   "cell_type": "code",
   "execution_count": 7,
   "id": "T7TX3e3EGajE",
   "metadata": {
    "id": "T7TX3e3EGajE"
   },
   "outputs": [],
   "source": [
    "r = np.linspace(3,8,100)\n",
    "lum = np.array([ff.luminosity(r[i],r[i+1]) for i in range(len(r)-1)])"
   ]
  },
  {
   "cell_type": "code",
   "execution_count": 16,
   "id": "TSCF4QMBJ_fq",
   "metadata": {
    "colab": {
     "base_uri": "https://localhost:8080/",
     "height": 475
    },
    "id": "TSCF4QMBJ_fq",
    "outputId": "e7c5a3a5-c533-4530-824f-de73743df1b3"
   },
   "outputs": [
    {
     "data": {
      "application/javascript": [
       "\n",
       "    async function download(id, filename, size) {\n",
       "      if (!google.colab.kernel.accessAllowed) {\n",
       "        return;\n",
       "      }\n",
       "      const div = document.createElement('div');\n",
       "      const label = document.createElement('label');\n",
       "      label.textContent = `Downloading \"${filename}\": `;\n",
       "      div.appendChild(label);\n",
       "      const progress = document.createElement('progress');\n",
       "      progress.max = size;\n",
       "      div.appendChild(progress);\n",
       "      document.body.appendChild(div);\n",
       "\n",
       "      const buffers = [];\n",
       "      let downloaded = 0;\n",
       "\n",
       "      const channel = await google.colab.kernel.comms.open(id);\n",
       "      // Send a message to notify the kernel that we're ready.\n",
       "      channel.send({})\n",
       "\n",
       "      for await (const message of channel.messages) {\n",
       "        // Send a message to notify the kernel that we're ready.\n",
       "        channel.send({})\n",
       "        if (message.buffers) {\n",
       "          for (const buffer of message.buffers) {\n",
       "            buffers.push(buffer);\n",
       "            downloaded += buffer.byteLength;\n",
       "            progress.value = downloaded;\n",
       "          }\n",
       "        }\n",
       "      }\n",
       "      const blob = new Blob(buffers, {type: 'application/binary'});\n",
       "      const a = document.createElement('a');\n",
       "      a.href = window.URL.createObjectURL(blob);\n",
       "      a.download = filename;\n",
       "      div.appendChild(a);\n",
       "      a.click();\n",
       "      div.remove();\n",
       "    }\n",
       "  "
      ],
      "text/plain": [
       "<IPython.core.display.Javascript object>"
      ]
     },
     "metadata": {},
     "output_type": "display_data"
    },
    {
     "data": {
      "application/javascript": [
       "download(\"download_d07f61f5-dcd4-49a3-ace7-9a460d22f928\", \"lumi.png\", 110836)"
      ],
      "text/plain": [
       "<IPython.core.display.Javascript object>"
      ]
     },
     "metadata": {},
     "output_type": "display_data"
    },
    {
     "data": {
      "image/png": "[encoded data removed]",
      "text/plain": [
       "<Figure size 640x480 with 1 Axes>"
      ]
     },
     "metadata": {},
     "output_type": "display_data"
    }
   ],
   "source": [
    "import matplotlib.pyplot as plt\n",
    "\n",
    "plt.plot(r[0:99],lum, color='teal',label='Numerical Luminosity')\n",
    "plt.plot(r[0:99],lumana,color='red', label='Analytical Luminosity')\n",
    "plt.legend()\n",
    "plt.title(\"Disk Luminosity\")\n",
    "plt.xlabel('$\\mathrm{r/R_s(M)}$')\n",
    "plt.ylabel('Luminosity erg $\\mathrm{s^{-1}}$')\n",
    "\n",
    "plt.savefig(\"lumi.png\",dpi=300)\n",
    "files.download(\"lumi.png\") "
   ]
  },
  {
   "cell_type": "code",
   "execution_count": 10,
   "id": "BpSQV3WoIPXn",
   "metadata": {
    "id": "BpSQV3WoIPXn"
   },
   "outputs": [],
   "source": [
    "def l_ana(a,b,m):\n",
    "  ra = a*schwarz(m)\n",
    "  rb = b*schwarz(m)\n",
    "  mdot = m_edd(m)\n",
    "\n",
    "  lum = (3*G*m*Msun*mdot/2) * (1/ra*(1-(2/3)*((1/a)**0.5)) - 1/rb*(1-(2/3)*((1/b)**0.5)))\n",
    "  return lum"
   ]
  },
  {
   "cell_type": "code",
   "execution_count": 11,
   "id": "k1_G57INI2E6",
   "metadata": {
    "id": "k1_G57INI2E6"
   },
   "outputs": [],
   "source": [
    "lumana = np.array([l_ana(r[i],r[i+1],10) for i in range(len(r)-1)])"
   ]
  },
  {
   "cell_type": "code",
   "execution_count": null,
   "id": "5RCcz2J0IB4R",
   "metadata": {
    "id": "5RCcz2J0IB4R"
   },
   "outputs": [],
   "source": [
    "m_edd(10)\n"
   ]
  },
  {
   "cell_type": "code",
   "execution_count": null,
   "id": "PP3QVnXjDT7V",
   "metadata": {
    "id": "PP3QVnXjDT7V"
   },
   "outputs": [],
   "source": [
    "masses = [10,15,20,25,30,35,40]\n",
    "lum = [ff.luminosity(4,8),ff2.luminosity(4,8),ff3.luminosity(4,8),ff4.luminosity(4,8),ff5.luminosity(4,8),ff6.luminosity(4,8),ff7.luminosity(4,8)]\n",
    "plt.scatter(masses,lum)\n",
    "plt.plot(masses,lum)"
   ]
  },
  {
   "cell_type": "code",
   "execution_count": null,
   "id": "39FMxx1WFckr",
   "metadata": {
    "id": "39FMxx1WFckr"
   },
   "outputs": [],
   "source": [
    "ff.luminosity(3,1e7)"
   ]
  },
  {
   "cell_type": "code",
   "execution_count": null,
   "id": "pChOEEduFOUv",
   "metadata": {
    "id": "pChOEEduFOUv"
   },
   "outputs": [],
   "source": [
    "(4*np.pi*G*10*Msun*c*mH)/(sigmaT)"
   ]
  },
  {
   "cell_type": "code",
   "execution_count": 13,
   "id": "wSXGx8Bz8If3",
   "metadata": {
    "id": "wSXGx8Bz8If3"
   },
   "outputs": [],
   "source": [
    "from google.colab import files\n",
    "#plt.savefig(\"abc.png\")\n"
   ]
  },
  {
   "cell_type": "code",
   "execution_count": null,
   "id": "2ce0ybIz4UTc",
   "metadata": {
    "id": "2ce0ybIz4UTc"
   },
   "outputs": [],
   "source": [
    "plt.plot(ff.r/ff.rg,ff.analytical_middle(0.2)[0],label='$\\mathrm{10 M_{\\odot}}$')\n",
    "plt.plot(ff2.r/ff2.rg,ff2.analytical_middle(0.2)[0],label='$\\mathrm{15 M_{\\odot}}$')\n",
    "plt.plot(ff3.r/ff3.rg,ff3.analytical_middle(0.2)[0],label='$\\mathrm{20 M_{\\odot}}$')\n",
    "plt.plot(ff4.r/ff4.rg,ff4.analytical_middle(0.2)[0],label='$\\mathrm{25 M_{\\odot}}$')\n",
    "plt.xlabel('$\\mathrm{r/R_s(M)}$')\n",
    "plt.ylabel('$\\mathrm{\\Sigma(g/cm^2)}$')\n",
    "plt.title(\"Analytical Surface Density\")\n",
    "plt.legend()\n",
    "plt.savefig(\"fig1_ana.png\",dpi=300)\n",
    "files.download(\"fig1_ana.png\") "
   ]
  },
  {
   "cell_type": "code",
   "execution_count": null,
   "id": "_0h_v8-h456V",
   "metadata": {
    "id": "_0h_v8-h456V"
   },
   "outputs": [],
   "source": [
    "3.0e10/0.00040 == 7.5e13"
   ]
  },
  {
   "cell_type": "code",
   "execution_count": null,
   "id": "_rgYY3Y21Ipj",
   "metadata": {
    "id": "_rgYY3Y21Ipj"
   },
   "outputs": [],
   "source": [
    "plt.plot(ff.r/ff.rg,ff.get_sigma_num()[0],label='$\\mathrm{10 M_{\\odot}}$')\n",
    "plt.plot(ff2.r/ff2.rg,ff2.get_sigma_num()[0],label='$\\mathrm{15 M_{\\odot}}$')\n",
    "plt.plot(ff3.r/ff3.rg,ff3.get_sigma_num()[0],label='$\\mathrm{20 M_{\\odot}}$')\n",
    "plt.plot(ff4.r/ff4.rg,ff4.get_sigma_num()[0],label='$\\mathrm{25 M_{\\odot}}$')\n",
    "plt.xlabel('$\\mathrm{r/R_s(M)}$')\n",
    "plt.ylabel('$\\mathrm{\\Sigma(g/cm^2)}$')\n",
    "plt.title(\"Numerical Surface Density\")\n",
    "plt.legend()\n",
    "plt.savefig(\"fig1_num.png\",dpi=300)\n",
    "files.download(\"fig1_num.png\") "
   ]
  },
  {
   "cell_type": "code",
   "execution_count": null,
   "id": "C0CfKDouCSoG",
   "metadata": {
    "id": "C0CfKDouCSoG"
   },
   "outputs": [],
   "source": [
    "#gas pressure\n",
    "#pgas = (self.rho*kB*self.Tc)/mH\n",
    "\n",
    "#radiation pressure\n",
    "#prad = (4*sigmaT*(self.Tc)**4)/(3*c)\n",
    "plt.plot(ff.r/ff.rg,)\n",
    "\n",
    "g*cm/s^2 / cm^2"
   ]
  },
  {
   "cell_type": "code",
   "execution_count": null,
   "id": "h2oLfR4BJyNv",
   "metadata": {
    "id": "h2oLfR4BJyNv"
   },
   "outputs": [],
   "source": [
    "# ff.r/ff.rg"
   ]
  },
  {
   "cell_type": "code",
   "execution_count": null,
   "id": "-_zctbWS1CCx",
   "metadata": {
    "id": "-_zctbWS1CCx"
   },
   "outputs": [],
   "source": [
    "plt.plot(ff.r/ff.rg,4*sigmaT*ff.get_tc_num()**4/(3*c),color='red',label=\"Radiation Pressure\")\n",
    "plt.plot(ff.r/ff.rg,kB*ff.get_rho_num()*ff.get_tc_num()/(mu*mH),color='teal',label=\"Gas Pressure\")\n",
    "boundary = ff.r[np.argmin(np.abs(4*sigmaT*ff.get_tc_num()**4/(3*c) - kB*ff.get_rho_num()*ff.get_tc_num()/(mu*mH)))]/ff.rg\n",
    "boundary_15 = ff2.r[np.argmin(np.abs(4*sigmaT*ff2.get_tc_num()**4/(3*c) - kB*ff2.get_rho_num()*ff2.get_tc_num()/(mu*mH)))]/ff2.rg\n",
    "boundary_20 = ff3.r[np.argmin(np.abs(4*sigmaT*ff3.get_tc_num()**4/(3*c) - kB*ff3.get_rho_num()*ff3.get_tc_num()/(mu*mH)))]/ff3.rg\n",
    "boundary_25 = ff4.r[np.argmin(np.abs(4*sigmaT*ff4.get_tc_num()**4/(3*c) - kB*ff4.get_rho_num()*ff4.get_tc_num()/(mu*mH)))]/ff4.rg\n",
    "boundary_30 = ff5.r[np.argmin(np.abs(4*sigmaT*ff5.get_tc_num()**4/(3*c) - kB*ff5.get_rho_num()*ff5.get_tc_num()/(mu*mH)))]/ff5.rg\n",
    "boundary_35 = ff6.r[np.argmin(np.abs(4*sigmaT*ff6.get_tc_num()**4/(3*c) - kB*ff6.get_rho_num()*ff6.get_tc_num()/(mu*mH)))]/ff6.rg\n",
    "boundary_40 = ff7.r[np.argmin(np.abs(4*sigmaT*ff7.get_tc_num()**4/(3*c) - kB*ff7.get_rho_num()*ff7.get_tc_num()/(mu*mH)))]/ff7.rg\n",
    "\n",
    "\n",
    "plt.scatter(boundary,(4*sigmaT*ff.get_tc_num()**4/(3*c))[np.argmin(np.abs(4*sigmaT*ff.get_tc_num()**4/(3*c) - kB*ff.get_rho_num()*ff.get_tc_num()/(mu*mH)))], color = 'k', s = 10*2)\n",
    "plt.scatter(boundary_15,(4*sigmaT*ff2.get_tc_num()**4/(3*c))[np.argmin(np.abs(4*sigmaT*ff2.get_tc_num()**4/(3*c) - kB*ff2.get_rho_num()*ff2.get_tc_num()/(mu*mH)))], color = 'k', s = 15*2)\n",
    "plt.scatter(boundary_20,(4*sigmaT*ff3.get_tc_num()**4/(3*c))[np.argmin(np.abs(4*sigmaT*ff3.get_tc_num()**4/(3*c) - kB*ff3.get_rho_num()*ff3.get_tc_num()/(mu*mH)))], color = 'k', s = 20*2)\n",
    "plt.scatter(boundary_25,(4*sigmaT*ff4.get_tc_num()**4/(3*c))[np.argmin(np.abs(4*sigmaT*ff4.get_tc_num()**4/(3*c) - kB*ff4.get_rho_num()*ff4.get_tc_num()/(mu*mH)))], color = 'k', s = 25*2)\n",
    "plt.scatter(boundary_30,(4*sigmaT*ff5.get_tc_num()**4/(3*c))[np.argmin(np.abs(4*sigmaT*ff5.get_tc_num()**4/(3*c) - kB*ff5.get_rho_num()*ff5.get_tc_num()/(mu*mH)))], color = 'k', s = 30*2)\n",
    "plt.scatter(boundary_35,(4*sigmaT*ff6.get_tc_num()**4/(3*c))[np.argmin(np.abs(4*sigmaT*ff6.get_tc_num()**4/(3*c) - kB*ff6.get_rho_num()*ff6.get_tc_num()/(mu*mH)))], color = 'k', s = 35*2)\n",
    "plt.scatter(boundary_40,(4*sigmaT*ff7.get_tc_num()**4/(3*c))[np.argmin(np.abs(4*sigmaT*ff7.get_tc_num()**4/(3*c) - kB*ff7.get_rho_num()*ff7.get_tc_num()/(mu*mH)))], color = 'k', s = 40*2)\n",
    "\n",
    "\n",
    "variation = np.array([(4*sigmaT*ff.get_tc_num()**4/(3*c))[np.argmin(np.abs(4*sigmaT*ff.get_tc_num()**4/(3*c) - kB*ff.get_rho_num()*ff.get_tc_num()/(mu*mH)))],\n",
    "                      (4*sigmaT*ff2.get_tc_num()**4/(3*c))[np.argmin(np.abs(4*sigmaT*ff2.get_tc_num()**4/(3*c) - kB*ff2.get_rho_num()*ff2.get_tc_num()/(mu*mH)))],\n",
    "                      (4*sigmaT*ff3.get_tc_num()**4/(3*c))[np.argmin(np.abs(4*sigmaT*ff3.get_tc_num()**4/(3*c) - kB*ff3.get_rho_num()*ff3.get_tc_num()/(mu*mH)))],\n",
    "                      (4*sigmaT*ff4.get_tc_num()**4/(3*c))[np.argmin(np.abs(4*sigmaT*ff4.get_tc_num()**4/(3*c) - kB*ff4.get_rho_num()*ff4.get_tc_num()/(mu*mH)))],\n",
    "                       (4*sigmaT*ff5.get_tc_num()**4/(3*c))[np.argmin(np.abs(4*sigmaT*ff5.get_tc_num()**4/(3*c) - kB*ff5.get_rho_num()*ff5.get_tc_num()/(mu*mH)))],\n",
    "                      (4*sigmaT*ff6.get_tc_num()**4/(3*c))[np.argmin(np.abs(4*sigmaT*ff6.get_tc_num()**4/(3*c) - kB*ff6.get_rho_num()*ff6.get_tc_num()/(mu*mH)))],\n",
    "                      (4*sigmaT*ff7.get_tc_num()**4/(3*c))[np.argmin(np.abs(4*sigmaT*ff7.get_tc_num()**4/(3*c) - kB*ff7.get_rho_num()*ff7.get_tc_num()/(mu*mH)))]])\n",
    "\n",
    "\n",
    "\n",
    "plt.axvline(boundary, linestyle = '--')\n",
    "\n",
    "plt.ylabel('$\\mathrm{Pressure(g cm^{-1} s^{-2})}$')\n",
    "plt.xlabel('$\\mathrm{r/R_s(M)}$')\n",
    "#plt.fill_between(np.array(ff.r/ff.rg),0,1)\n",
    "plt.fill_betweenx([0, 6000], 4, boundary, color='red', alpha=0.2)\n",
    "plt.fill_betweenx([0, 6000], boundary, 8, color='teal', alpha=0.2)\n",
    "plt.text(boundary + 0.05, 2900, \"Dividing Line\",rotation = 90)\n",
    "plt.scatter(boundary,(4*sigmaT*ff.get_tc_num()**4/(3*c))[np.argmin(np.abs(4*sigmaT*ff.get_tc_num()**4/(3*c) - kB*ff.get_rho_num()*ff.get_tc_num()/(mu*mH)))], color = 'k', s = 10)\n",
    "plt.plot([boundary,boundary_15,boundary_20,boundary_25,boundary_30,boundary_35,boundary_40], variation, linestyle = '--', label = \"$\\mathrm{R_{boundary}}$ vs $\\mathrm{P_{boundary}}$ for linearly scaled BH Mass\")\n",
    "plt.text(6.0,3000, \"Gas Pressure Dominated\")\n",
    "plt.text(4.3,500, \"Radiation Pressure Dominated\", rotation = 90, fontsize = 10)\n",
    "plt.xlim(4,8)\n",
    "plt.ylim(0,6000)\n",
    "plt.legend(fontsize = 8, loc= \"upper center\")\n",
    "plt.title(\"Numerical Pressure for M = $10 M_{\\odot}$\")\n",
    "plt.savefig(\"fig2_num.png\",dpi=300)\n",
    "files.download(\"fig2_num.png\") \n",
    "#plt.plot(ff2.r/ff2.rg,ff2.get_tc_num()**4,color='red')"
   ]
  },
  {
   "cell_type": "code",
   "execution_count": null,
   "id": "BvT0TmfXKelC",
   "metadata": {
    "id": "BvT0TmfXKelC"
   },
   "outputs": [],
   "source": [
    "boundary_15"
   ]
  },
  {
   "cell_type": "code",
   "execution_count": null,
   "id": "6OZSi925bR0S",
   "metadata": {
    "id": "6OZSi925bR0S"
   },
   "outputs": [],
   "source": [
    "(4*sigmaT*ff2.get_tc_num()**4/(3*c))[np.argmin(np.abs(4*sigmaT*ff2.get_tc_num()**4/(3*c)*1e16 - kB*ff2.get_rho_num()*ff2.get_tc_num()/(mu*mH)))]*1e16"
   ]
  },
  {
   "cell_type": "code",
   "execution_count": null,
   "id": "970jxvYhzEct",
   "metadata": {
    "id": "970jxvYhzEct"
   },
   "outputs": [],
   "source": [
    "# ((3*ff.get_rho_num()*kB*c)/(4*mu*mH*sigmaT))**(1/3)"
   ]
  },
  {
   "cell_type": "code",
   "execution_count": null,
   "id": "PIg8GgHEwtTp",
   "metadata": {
    "id": "PIg8GgHEwtTp"
   },
   "outputs": [],
   "source": [
    "# ff.get_tc_num()"
   ]
  },
  {
   "cell_type": "code",
   "execution_count": null,
   "id": "ThhUBTXpwfIy",
   "metadata": {
    "id": "ThhUBTXpwfIy"
   },
   "outputs": [],
   "source": [
    "((3*ff.rho*kB*c)/(4*mu*mH*sigmaT))**(1/3)"
   ]
  },
  {
   "cell_type": "code",
   "execution_count": null,
   "id": "I-6VCGKOuHF9",
   "metadata": {
    "id": "I-6VCGKOuHF9"
   },
   "outputs": [],
   "source": [
    "ff.luminosity(4,5)"
   ]
  },
  {
   "cell_type": "code",
   "execution_count": null,
   "id": "q2AtvnrSuWtD",
   "metadata": {
    "id": "q2AtvnrSuWtD"
   },
   "outputs": [],
   "source": [
    "ff.luminosity(4,5)"
   ]
  },
  {
   "cell_type": "code",
   "execution_count": null,
   "id": "JuxYn9eRvX57",
   "metadata": {
    "id": "JuxYn9eRvX57"
   },
   "outputs": [],
   "source": [
    "23630433.144573964/ff.rg"
   ]
  },
  {
   "cell_type": "code",
   "execution_count": null,
   "id": "pTH89X84u3_f",
   "metadata": {
    "id": "pTH89X84u3_f"
   },
   "outputs": [],
   "source": [
    "ff.get_bdry()[0]/ff.rg"
   ]
  },
  {
   "cell_type": "code",
   "execution_count": null,
   "id": "1evWkhWlJZF0",
   "metadata": {
    "id": "1evWkhWlJZF0"
   },
   "outputs": [],
   "source": [
    "a,b = ff.get_energy()"
   ]
  },
  {
   "cell_type": "code",
   "execution_count": null,
   "id": "KjlApYe8s6zA",
   "metadata": {
    "id": "KjlApYe8s6zA"
   },
   "outputs": [],
   "source": [
    "ff.tc_num(4*ff.rg)"
   ]
  },
  {
   "cell_type": "code",
   "execution_count": null,
   "id": "iLGpCGw-tBZo",
   "metadata": {
    "id": "iLGpCGw-tBZo"
   },
   "outputs": [],
   "source": []
  },
  {
   "cell_type": "code",
   "execution_count": null,
   "id": "0CV34-l4O9so",
   "metadata": {
    "id": "0CV34-l4O9so"
   },
   "outputs": [],
   "source": [
    "ff.get_tc_num()[0]"
   ]
  },
  {
   "cell_type": "code",
   "execution_count": null,
   "id": "nQALQLT6NfuA",
   "metadata": {
    "id": "nQALQLT6NfuA"
   },
   "outputs": [],
   "source": [
    "ff.tc_num(6)"
   ]
  },
  {
   "cell_type": "code",
   "execution_count": null,
   "id": "UBun4OM2F0U-",
   "metadata": {
    "id": "UBun4OM2F0U-"
   },
   "outputs": [],
   "source": [
    "v,dr,sig,r,rarray = ff.energy(8)"
   ]
  },
  {
   "cell_type": "code",
   "execution_count": null,
   "id": "tV3EYUc_KI-O",
   "metadata": {
    "id": "tV3EYUc_KI-O"
   },
   "outputs": [],
   "source": []
  },
  {
   "cell_type": "code",
   "execution_count": null,
   "id": "-InRx8E-G1jM",
   "metadata": {
    "id": "-InRx8E-G1jM"
   },
   "outputs": [],
   "source": [
    "vall = 5\n",
    "sigma = sig[np.argmin(np.abs(ff.r / ff.rg - 5))]"
   ]
  },
  {
   "cell_type": "code",
   "execution_count": null,
   "id": "8Xg6hi9UGtbt",
   "metadata": {
    "id": "8Xg6hi9UGtbt"
   },
   "outputs": [],
   "source": [
    "np.argmin(np.abs(ff.r / ff.rg - 5))"
   ]
  },
  {
   "cell_type": "code",
   "execution_count": null,
   "id": "FJsxIDKqd68d",
   "metadata": {
    "id": "FJsxIDKqd68d"
   },
   "outputs": [],
   "source": [
    "plt.plot(np.linspace(4,4.001,1000),ff.testing())"
   ]
  },
  {
   "cell_type": "code",
   "execution_count": null,
   "id": "rj3BcnkSZhqE",
   "metadata": {
    "id": "rj3BcnkSZhqE"
   },
   "outputs": [],
   "source": [
    "energy = ff.get_energy()\n",
    "energy"
   ]
  },
  {
   "cell_type": "code",
   "execution_count": null,
   "id": "4dHkneecbdGJ",
   "metadata": {
    "id": "4dHkneecbdGJ"
   },
   "outputs": [],
   "source": [
    "energy[1]"
   ]
  },
  {
   "cell_type": "code",
   "execution_count": null,
   "id": "QltMWf-2U9_B",
   "metadata": {
    "id": "QltMWf-2U9_B"
   },
   "outputs": [],
   "source": [
    "# ff.get_sigma_num()[1] < 5907608.286143491"
   ]
  },
  {
   "cell_type": "code",
   "execution_count": null,
   "id": "FiwZFfsrT7Sk",
   "metadata": {
    "id": "FiwZFfsrT7Sk"
   },
   "outputs": [],
   "source": [
    "ff.get_bdry()[0]/schwarz(10)"
   ]
  },
  {
   "cell_type": "code",
   "execution_count": null,
   "id": "vf3FdAhLYmtZ",
   "metadata": {
    "id": "vf3FdAhLYmtZ"
   },
   "outputs": [],
   "source": [
    "tau = ff.get_sigma_num()"
   ]
  },
  {
   "cell_type": "code",
   "execution_count": null,
   "id": "W4AE2biIZIXz",
   "metadata": {
    "id": "W4AE2biIZIXz"
   },
   "outputs": [],
   "source": [
    "ff.tc_num()"
   ]
  },
  {
   "cell_type": "code",
   "execution_count": null,
   "id": "4jmbesa6XJCu",
   "metadata": {
    "id": "4jmbesa6XJCu"
   },
   "outputs": [],
   "source": [
    "tc = ff.get_tc_num()\n",
    "tc"
   ]
  },
  {
   "cell_type": "code",
   "execution_count": null,
   "id": "hXvd57H9XZDu",
   "metadata": {
    "id": "hXvd57H9XZDu"
   },
   "outputs": [],
   "source": [
    "np.shape(tc)"
   ]
  },
  {
   "cell_type": "code",
   "execution_count": null,
   "id": "geH2H2ftV2R9",
   "metadata": {
    "id": "geH2H2ftV2R9"
   },
   "outputs": [],
   "source": [
    "bdry,fff=ff.get_bdry()"
   ]
  },
  {
   "cell_type": "code",
   "execution_count": null,
   "id": "QB7xXzaXW01a",
   "metadata": {
    "id": "QB7xXzaXW01a"
   },
   "outputs": [],
   "source": [
    "bdry/schwarz(10)"
   ]
  },
  {
   "cell_type": "code",
   "execution_count": null,
   "id": "tKTjTeoWWlZw",
   "metadata": {
    "id": "tKTjTeoWWlZw"
   },
   "outputs": [],
   "source": [
    "fff / schwarz(10)"
   ]
  },
  {
   "cell_type": "code",
   "execution_count": null,
   "id": "W-5GvJGKINAP",
   "metadata": {
    "id": "W-5GvJGKINAP"
   },
   "outputs": [],
   "source": [
    "\n",
    "\n",
    "jj = []\n",
    "rr = np.arange(4,10,1)\n",
    "light = np.array([ff.luminosity(3,i) for i in rr])\n",
    "plt.plot(rr,light)\n",
    "plt.xlabel(r\"${R}/{R_{Schwarz}(M)}$\")\n",
    "plt.ylabel(\"Luminosity\")"
   ]
  },
  {
   "cell_type": "markdown",
   "id": "855E3y_DlIZe",
   "metadata": {
    "id": "855E3y_DlIZe"
   },
   "source": [
    "PLOT 2 - luminosity - as you get further away, the luminosity increases - it's cummulative luminosity "
   ]
  },
  {
   "cell_type": "code",
   "execution_count": null,
   "id": "UkjjvSGiStni",
   "metadata": {
    "id": "UkjjvSGiStni"
   },
   "outputs": [],
   "source": [
    "np.argmin([2,1,3])"
   ]
  },
  {
   "cell_type": "code",
   "execution_count": null,
   "id": "Uww1kK4eJNT1",
   "metadata": {
    "id": "Uww1kK4eJNT1"
   },
   "outputs": [],
   "source": [
    "ff.energy(3)"
   ]
  },
  {
   "cell_type": "code",
   "execution_count": null,
   "id": "6NwbJk8FJG2y",
   "metadata": {
    "id": "6NwbJk8FJG2y"
   },
   "outputs": [],
   "source": [
    "jj = []\n",
    "rr = np.arange(4,10,1)\n",
    "light = np.array([ff.energy(i) for i in rr])\n",
    "plt.plot(rr,light)\n",
    "plt.xlabel(r\"${R}/{R_{Schwarz}(M)}$\")\n",
    "plt.ylabel(\"Luminosity\")"
   ]
  },
  {
   "cell_type": "code",
   "execution_count": null,
   "id": "ZgLaBNsOE0dv",
   "metadata": {
    "id": "ZgLaBNsOE0dv"
   },
   "outputs": [],
   "source": [
    "#ff.energy(3)\n",
    "#ff.energy(np.array([1,2,3]))\n",
    "ff.luminosity(3,4)"
   ]
  },
  {
   "cell_type": "code",
   "execution_count": null,
   "id": "G9-QuUJnGFYJ",
   "metadata": {
    "id": "G9-QuUJnGFYJ"
   },
   "outputs": [],
   "source": [
    "ff.numerical_middle_sigma(7,8)"
   ]
  },
  {
   "cell_type": "code",
   "execution_count": null,
   "id": "1ONVcHZtMrRu",
   "metadata": {
    "id": "1ONVcHZtMrRu"
   },
   "outputs": [],
   "source": [
    "ff.luminosity(3,4)"
   ]
  },
  {
   "cell_type": "code",
   "execution_count": null,
   "id": "MGH0u7iwLrtJ",
   "metadata": {
    "id": "MGH0u7iwLrtJ"
   },
   "outputs": [],
   "source": [
    "G*10*Msun*m_edd(10) / 2*schwarz(10)"
   ]
  },
  {
   "cell_type": "code",
   "execution_count": null,
   "id": "lZzhwFtLIj_K",
   "metadata": {
    "id": "lZzhwFtLIj_K"
   },
   "outputs": [],
   "source": [
    "a,b,c = ff.energy(3)"
   ]
  },
  {
   "cell_type": "code",
   "execution_count": null,
   "id": "-06KUPIrsSuz",
   "metadata": {
    "id": "-06KUPIrsSuz"
   },
   "outputs": [],
   "source": [
    "#testing if dr is a smooth function or not; will use an appropriate integration method based on that\n",
    "\n",
    "import numpy as np\n",
    "import matplotlib.pyplot as plt\n",
    "def fg(R):\n",
    "  G = 1\n",
    "  m = 1\n",
    "  mdot = 1\n",
    "\n",
    "  ds = (3*G*m*mdot)/(8*np.pi*R**3) * (1 - (1/R)**0.5)\n",
    "  return ds\n",
    "\n",
    "r = np.linspace(4,20,1000)\n",
    "dd = fg(r)\n",
    "plt.plot(r,dd)"
   ]
  },
  {
   "cell_type": "code",
   "execution_count": null,
   "id": "e4e8abce",
   "metadata": {
    "id": "e4e8abce"
   },
   "outputs": [],
   "source": [
    "def q(m,mdot,r):\n",
    "    rstar = 3\n",
    "    tt = 3*(1-(rstar/r**0.5)) / (8*np.pi*r**3)\n",
    "    return tt"
   ]
  },
  {
   "cell_type": "code",
   "execution_count": null,
   "id": "a82108aa",
   "metadata": {
    "id": "a82108aa"
   },
   "outputs": [],
   "source": [
    "rr = np.linspace(1,100,1000)\n",
    "y = q(10,m_edd(10),rr)\n",
    "plt.plot(rr,y)"
   ]
  },
  {
   "cell_type": "code",
   "execution_count": null,
   "id": "8f678b83",
   "metadata": {
    "id": "8f678b83"
   },
   "outputs": [],
   "source": [
    "import numpy\n",
    "M, M_dot, nu, r_out, r_in=3"
   ]
  }
 ],
 "metadata": {
  "colab": {
   "provenance": []
  },
  "kernelspec": {
   "display_name": "Python 3 (ipykernel)",
   "language": "python",
   "name": "python3"
  },
  "language_info": {
   "codemirror_mode": {
    "name": "ipython",
    "version": 3
   },
   "file_extension": ".py",
   "mimetype": "text/x-python",
   "name": "python",
   "nbconvert_exporter": "python",
   "pygments_lexer": "ipython3",
   "version": "3.8.8"
  }
 },
 "nbformat": 4,
 "nbformat_minor": 5
}
