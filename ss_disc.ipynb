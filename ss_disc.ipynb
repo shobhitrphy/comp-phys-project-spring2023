{
  "cells": [
    {
      "cell_type": "code",
      "execution_count": 1,
      "id": "40ca8232",
      "metadata": {
        "id": "40ca8232"
      },
      "outputs": [],
      "source": [
        "import numpy as np\n",
        "import matplotlib.pyplot as plt\n",
        "\n",
        "hP = 6.6260688e-27 # Planck's const / erg s\n",
        "hbar = hP/2*np.pi\n",
        "G = 6.67384e-8 # cm^3/g/s^2\n",
        "c = 2.99792458e10 # speed of light  / cm/s\n",
        "kB = 1.3806488e-16 # Boltzmann const / erg/K\n",
        "mH = 1.66053892e-24 # atomic mass unit / g\n",
        "me = 9.1093898e-28 # electron mass / g\n",
        "mp = 1.676e-24 #proton mass [g] \n",
        "mu = 0.615 #mean molecular weight\n",
        "alphaEM = 1/137.0359895 # fine structure constant\n",
        "sigmaT = 8*np.pi/3*(alphaEM*hbar/me/c)**2 # Thomson cross section / cm^2\n",
        "a_rad =  np.pi**2/15*kB*(kB/hbar/c)**3 # radiation const / erg/cm^3/K^4\n",
        "stefan = a_rad*c/4 # Stefan-Boltzmann const / erg/cm^2/s/K^4\n",
        "eV = 1.60217733e-12 # 1 electron volt / erg\n",
        "keV = 1e3*eV\n",
        "Msun = 1.98892e33 # solar mass / g\n",
        "Msun = 1.98892e33 # solar mass / g\n",
        "LEsun = 4*np.pi*c*G*Msun*mH/sigmaT # Eddington luminosity / erg/s\n",
        "MEsun = LEsun/c**2\n",
        "pc = 3.08567758e18 # 1 parsec / cm\n",
        "\n",
        "kappa_es = 0.4 # opacity by electron scattering / cm^2/g\n",
        "kappa_0 = 6.45e22 # krammers opacity at (rho,T)=(1,1) in cgs\n",
        "nu_0 = 2.4e21*15 # electron-ion coupling (Coulomb log = 15)"
      ]
    },
    {
      "cell_type": "code",
      "source": [
        "sigmaT"
      ],
      "metadata": {
        "colab": {
          "base_uri": "https://localhost:8080/"
        },
        "id": "Dy2VkuE831Qt",
        "outputId": "4e93721f-0ffd-493c-dbb4-046e49d88ede"
      },
      "id": "Dy2VkuE831Qt",
      "execution_count": null,
      "outputs": [
        {
          "output_type": "execute_result",
          "data": {
            "text/plain": [
              "6.480089171809357e-23"
            ]
          },
          "metadata": {},
          "execution_count": 5
        }
      ]
    },
    {
      "cell_type": "markdown",
      "source": [
        "REDUNDANT ALREADY ADDED IT TO THE CLASS"
      ],
      "metadata": {
        "id": "k3THA4fDkQ5t"
      },
      "id": "k3THA4fDkQ5t"
    },
    {
      "cell_type": "code",
      "execution_count": 2,
      "id": "e4bdbccf",
      "metadata": {
        "id": "e4bdbccf"
      },
      "outputs": [],
      "source": [
        "def schwarz(M):\n",
        "    '''\n",
        "    give M in Msuns\n",
        "    out in cms\n",
        "    '''\n",
        "    return 2*G*(M*Msun)/(c**2)\n",
        "\n",
        "def m_edd(M):\n",
        "    '''\n",
        "    give M in MSuns\n",
        "    out in g/s\n",
        "    '''\n",
        "    epsilon = 0.1\n",
        "    return (4*np.pi*G*(M)*mH)/(epsilon*c*sigmaT)\n",
        "\n",
        "\n",
        "def omega(M,r):\n",
        "    '''\n",
        "    M in Msun\n",
        "    r in rschwarz\n",
        "    '''\n",
        "    return (G*M*Msun/((r*schwarz(M))**3))**0.5\n",
        "\n",
        "\n",
        "def domega_dr(M,r):\n",
        "    '''\n",
        "    M in Msun\n",
        "    r in rschwarz\n",
        "    '''\n",
        "    return (-1.5)*(G*M*Msun/((r*schwarz(M))**5))**0.5\n",
        "\n",
        "\n",
        "def d2omega_d2r(M,r):\n",
        "    '''\n",
        "    M in Msun\n",
        "    r in rschwarz\n",
        "    '''\n",
        "    return (15/4)*(G*M*Msun/((r*schwarz(M))**7))**0.5\n",
        "\n",
        "def sigma_ana(Mdot,r,r_star,nu):\n",
        "    '''\n",
        "    Mdot in msun/second\n",
        "    r in schwarz\n",
        "    r_star in schwarz\n",
        "    '''\n",
        "    \n",
        "    return (Mdot*Msun/(3*np.pi*nu))*(1-(r_star/r)**0.5)\n",
        "\n",
        "\n"
      ]
    },
    {
      "cell_type": "code",
      "execution_count": null,
      "id": "187fc2aa",
      "metadata": {
        "id": "187fc2aa",
        "outputId": "e9000531-3ce9-4294-8677-e3b300799647",
        "colab": {
          "base_uri": "https://localhost:8080/"
        }
      },
      "outputs": [
        {
          "output_type": "execute_result",
          "data": {
            "text/plain": [
              "3.3910242427129244e-10"
            ]
          },
          "metadata": {},
          "execution_count": 7
        }
      ],
      "source": [
        "(m_edd(1.5))*60*60*24*365"
      ]
    },
    {
      "cell_type": "code",
      "execution_count": null,
      "id": "f485c56f",
      "metadata": {
        "id": "f485c56f"
      },
      "outputs": [],
      "source": [
        "def dsigma_dr(r,sigma,M,Mdot,nu):\n",
        "    \n",
        "    m = M*Msun\n",
        "    mdot = Mdot*Msun\n",
        "    R = r*schwarz(M)\n",
        "    \n",
        "    num = 2*mdot*R*omega(M,r) + mdot*R**2*domega_dr(M,r) - 6*np.pi*R**2*nu*sigma*domega_dr(M,r) - 2*np.pi*R**3*nu*sigma*d2omega_d2r(M,r)\n",
        "    #num = 2*(r*schwarz(M))*(Mdot*Msun) + domega_dr(M,r) - 2*np.pi*nu*(r*schwarz(M))**3*sigma*d2omega_d2r(M,r) - 4*np.pi*sigma*nu*domega_dr(M,r)*(r*schwarz(M))**2\n",
        "    \n",
        "    den = -2*np.pi*nu*domega_dr(M,r)*R**3\n",
        "    \n",
        "    return np.divide(num,den)\n"
      ]
    },
    {
      "cell_type": "markdown",
      "id": "91057f38",
      "metadata": {
        "id": "91057f38"
      },
      "source": [
        "# RK-4 Solution"
      ]
    },
    {
      "cell_type": "markdown",
      "id": "7c0dbd8b",
      "metadata": {
        "id": "7c0dbd8b"
      },
      "source": [
        "In my original notebook, both the numerical as well as the analytical solution had the same shape, but since I have rewritten it (the old one got deleted as I messaged Prof. Wise on teams), the numerical one is flipped for some reason. I am still trying to figure this out. I suspect it must have something to do with units/ not keeping track of the units"
      ]
    },
    {
      "cell_type": "code",
      "execution_count": null,
      "id": "6425cbb6",
      "metadata": {
        "id": "6425cbb6"
      },
      "outputs": [],
      "source": [
        "M = 10\n",
        "Mdot = m_edd(10)/Msun\n",
        "nu = 0.5\n",
        "r_star = 3"
      ]
    },
    {
      "cell_type": "code",
      "execution_count": null,
      "id": "97762218",
      "metadata": {
        "id": "97762218"
      },
      "outputs": [],
      "source": [
        "N = 1000\n",
        "r0 = 2\n",
        "r_end = 10\n",
        "h = (r_end-r0)/N\n",
        "r = np.arange(r0,r_end,h)\n",
        "sigmas = np.zeros(N)\n",
        "s0 = 0\n",
        "sigmas[0] = 0\n",
        "#r = r0\n",
        "for i in range (1,N):\n",
        "    s = sigmas[i]\n",
        "    k1 = h * dsigma_dr(r[i],s,M,Mdot,nu)\n",
        "    k2 = h * dsigma_dr(r[i] + 0.5 * h, s + 0.5 * k1,M,Mdot,nu)\n",
        "    k3 = h * dsigma_dr(r[i] + 0.5 * h, s + 0.5 * k2,M,Mdot,nu)\n",
        "    k4 = h * dsigma_dr(r[i] + h, s + k3,M,Mdot,nu)\n",
        "    \n",
        "    sigmas[i] = s + (1/6)*(k1 + 2*k2 + 2*k3 + k4)"
      ]
    },
    {
      "cell_type": "code",
      "source": [
        "sigmas"
      ],
      "metadata": {
        "colab": {
          "base_uri": "https://localhost:8080/"
        },
        "id": "ShtqQucFNOhm",
        "outputId": "f5d04187-351e-49d3-ab91-860a61f19dea"
      },
      "id": "ShtqQucFNOhm",
      "execution_count": null,
      "outputs": [
        {
          "output_type": "execute_result",
          "data": {
            "text/plain": [
              "array([0.00000000e+00, 1.02386522e-26, 1.01981029e-26, 1.01578736e-26,\n",
              "       1.01179605e-26, 1.00783597e-26, 1.00390678e-26, 1.00000810e-26,\n",
              "       9.96139589e-27, 9.92300891e-27, 9.88491665e-27, 9.84711573e-27,\n",
              "       9.80960282e-27, 9.77237463e-27, 9.73542795e-27, 9.69875958e-27,\n",
              "       9.66236640e-27, 9.62624532e-27, 9.59039330e-27, 9.55480735e-27,\n",
              "       9.51948450e-27, 9.48442187e-27, 9.44961657e-27, 9.41506579e-27,\n",
              "       9.38076675e-27, 9.34671671e-27, 9.31291296e-27, 9.27935284e-27,\n",
              "       9.24603372e-27, 9.21295303e-27, 9.18010821e-27, 9.14749674e-27,\n",
              "       9.11511616e-27, 9.08296400e-27, 9.05103788e-27, 9.01933540e-27,\n",
              "       8.98785424e-27, 8.95659207e-27, 8.92554663e-27, 8.89471567e-27,\n",
              "       8.86409696e-27, 8.83368834e-27, 8.80348764e-27, 8.77349273e-27,\n",
              "       8.74370153e-27, 8.71411196e-27, 8.68472198e-27, 8.65552958e-27,\n",
              "       8.62653278e-27, 8.59772961e-27, 8.56911814e-27, 8.54069647e-27,\n",
              "       8.51246271e-27, 8.48441501e-27, 8.45655153e-27, 8.42887046e-27,\n",
              "       8.40137001e-27, 8.37404844e-27, 8.34690399e-27, 8.31993494e-27,\n",
              "       8.29313962e-27, 8.26651633e-27, 8.24006343e-27, 8.21377929e-27,\n",
              "       8.18766230e-27, 8.16171087e-27, 8.13592344e-27, 8.11029844e-27,\n",
              "       8.08483435e-27, 8.05952966e-27, 8.03438288e-27, 8.00939254e-27,\n",
              "       7.98455717e-27, 7.95987535e-27, 7.93534565e-27, 7.91096667e-27,\n",
              "       7.88673702e-27, 7.86265535e-27, 7.83872029e-27, 7.81493051e-27,\n",
              "       7.79128469e-27, 7.76778153e-27, 7.74441975e-27, 7.72119806e-27,\n",
              "       7.69811523e-27, 7.67516999e-27, 7.65236113e-27, 7.62968743e-27,\n",
              "       7.60714770e-27, 7.58474076e-27, 7.56246542e-27, 7.54032054e-27,\n",
              "       7.51830498e-27, 7.49641759e-27, 7.47465728e-27, 7.45302293e-27,\n",
              "       7.43151346e-27, 7.41012778e-27, 7.38886483e-27, 7.36772355e-27,\n",
              "       7.34670292e-27, 7.32580188e-27, 7.30501944e-27, 7.28435458e-27,\n",
              "       7.26380630e-27, 7.24337362e-27, 7.22305558e-27, 7.20285120e-27,\n",
              "       7.18275954e-27, 7.16277965e-27, 7.14291061e-27, 7.12315150e-27,\n",
              "       7.10350140e-27, 7.08395942e-27, 7.06452466e-27, 7.04519626e-27,\n",
              "       7.02597332e-27, 7.00685500e-27, 6.98784045e-27, 6.96892881e-27,\n",
              "       6.95011927e-27, 6.93141098e-27, 6.91280315e-27, 6.89429495e-27,\n",
              "       6.87588559e-27, 6.85757429e-27, 6.83936026e-27, 6.82124273e-27,\n",
              "       6.80322093e-27, 6.78529411e-27, 6.76746152e-27, 6.74972241e-27,\n",
              "       6.73207606e-27, 6.71452173e-27, 6.69705872e-27, 6.67968630e-27,\n",
              "       6.66240378e-27, 6.64521046e-27, 6.62810565e-27, 6.61108868e-27,\n",
              "       6.59415885e-27, 6.57731552e-27, 6.56055801e-27, 6.54388567e-27,\n",
              "       6.52729786e-27, 6.51079392e-27, 6.49437324e-27, 6.47803518e-27,\n",
              "       6.46177911e-27, 6.44560443e-27, 6.42951052e-27, 6.41349678e-27,\n",
              "       6.39756261e-27, 6.38170742e-27, 6.36593062e-27, 6.35023164e-27,\n",
              "       6.33460990e-27, 6.31906483e-27, 6.30359587e-27, 6.28820245e-27,\n",
              "       6.27288404e-27, 6.25764008e-27, 6.24247003e-27, 6.22737335e-27,\n",
              "       6.21234952e-27, 6.19739800e-27, 6.18251828e-27, 6.16770984e-27,\n",
              "       6.15297216e-27, 6.13830475e-27, 6.12370711e-27, 6.10917873e-27,\n",
              "       6.09471912e-27, 6.08032780e-27, 6.06600428e-27, 6.05174809e-27,\n",
              "       6.03755874e-27, 6.02343579e-27, 6.00937875e-27, 5.99538717e-27,\n",
              "       5.98146059e-27, 5.96759856e-27, 5.95380063e-27, 5.94006636e-27,\n",
              "       5.92639531e-27, 5.91278704e-27, 5.89924113e-27, 5.88575713e-27,\n",
              "       5.87233464e-27, 5.85897323e-27, 5.84567249e-27, 5.83243200e-27,\n",
              "       5.81925135e-27, 5.80613014e-27, 5.79306797e-27, 5.78006444e-27,\n",
              "       5.76711915e-27, 5.75423172e-27, 5.74140177e-27, 5.72862889e-27,\n",
              "       5.71591272e-27, 5.70325289e-27, 5.69064900e-27, 5.67810070e-27,\n",
              "       5.66560762e-27, 5.65316939e-27, 5.64078566e-27, 5.62845607e-27,\n",
              "       5.61618025e-27, 5.60395787e-27, 5.59178857e-27, 5.57967201e-27,\n",
              "       5.56760784e-27, 5.55559574e-27, 5.54363535e-27, 5.53172635e-27,\n",
              "       5.51986841e-27, 5.50806119e-27, 5.49630438e-27, 5.48459765e-27,\n",
              "       5.47294069e-27, 5.46133317e-27, 5.44977479e-27, 5.43826522e-27,\n",
              "       5.42680417e-27, 5.41539132e-27, 5.40402638e-27, 5.39270904e-27,\n",
              "       5.38143900e-27, 5.37021597e-27, 5.35903966e-27, 5.34790976e-27,\n",
              "       5.33682600e-27, 5.32578809e-27, 5.31479575e-27, 5.30384868e-27,\n",
              "       5.29294662e-27, 5.28208929e-27, 5.27127641e-27, 5.26050770e-27,\n",
              "       5.24978291e-27, 5.23910176e-27, 5.22846398e-27, 5.21786931e-27,\n",
              "       5.20731750e-27, 5.19680827e-27, 5.18634138e-27, 5.17591657e-27,\n",
              "       5.16553358e-27, 5.15519216e-27, 5.14489207e-27, 5.13463306e-27,\n",
              "       5.12441488e-27, 5.11423728e-27, 5.10410004e-27, 5.09400290e-27,\n",
              "       5.08394563e-27, 5.07392800e-27, 5.06394976e-27, 5.05401070e-27,\n",
              "       5.04411057e-27, 5.03424916e-27, 5.02442623e-27, 5.01464156e-27,\n",
              "       5.00489492e-27, 4.99518610e-27, 4.98551487e-27, 4.97588102e-27,\n",
              "       4.96628433e-27, 4.95672458e-27, 4.94720157e-27, 4.93771508e-27,\n",
              "       4.92826490e-27, 4.91885083e-27, 4.90947265e-27, 4.90013017e-27,\n",
              "       4.89082317e-27, 4.88155146e-27, 4.87231484e-27, 4.86311311e-27,\n",
              "       4.85394606e-27, 4.84481352e-27, 4.83571527e-27, 4.82665113e-27,\n",
              "       4.81762091e-27, 4.80862441e-27, 4.79966145e-27, 4.79073185e-27,\n",
              "       4.78183540e-27, 4.77297194e-27, 4.76414128e-27, 4.75534323e-27,\n",
              "       4.74657761e-27, 4.73784425e-27, 4.72914297e-27, 4.72047359e-27,\n",
              "       4.71183594e-27, 4.70322985e-27, 4.69465513e-27, 4.68611162e-27,\n",
              "       4.67759915e-27, 4.66911755e-27, 4.66066666e-27, 4.65224630e-27,\n",
              "       4.64385631e-27, 4.63549653e-27, 4.62716679e-27, 4.61886693e-27,\n",
              "       4.61059680e-27, 4.60235623e-27, 4.59414506e-27, 4.58596314e-27,\n",
              "       4.57781032e-27, 4.56968643e-27, 4.56159132e-27, 4.55352484e-27,\n",
              "       4.54548684e-27, 4.53747717e-27, 4.52949567e-27, 4.52154221e-27,\n",
              "       4.51361662e-27, 4.50571878e-27, 4.49784852e-27, 4.49000571e-27,\n",
              "       4.48219021e-27, 4.47440186e-27, 4.46664054e-27, 4.45890609e-27,\n",
              "       4.45119839e-27, 4.44351728e-27, 4.43586264e-27, 4.42823432e-27,\n",
              "       4.42063220e-27, 4.41305614e-27, 4.40550599e-27, 4.39798164e-27,\n",
              "       4.39048295e-27, 4.38300978e-27, 4.37556201e-27, 4.36813951e-27,\n",
              "       4.36074215e-27, 4.35336980e-27, 4.34602234e-27, 4.33869964e-27,\n",
              "       4.33140157e-27, 4.32412801e-27, 4.31687884e-27, 4.30965393e-27,\n",
              "       4.30245317e-27, 4.29527643e-27, 4.28812360e-27, 4.28099454e-27,\n",
              "       4.27388916e-27, 4.26680731e-27, 4.25974890e-27, 4.25271381e-27,\n",
              "       4.24570191e-27, 4.23871310e-27, 4.23174725e-27, 4.22480427e-27,\n",
              "       4.21788403e-27, 4.21098642e-27, 4.20411134e-27, 4.19725867e-27,\n",
              "       4.19042830e-27, 4.18362013e-27, 4.17683405e-27, 4.17006994e-27,\n",
              "       4.16332771e-27, 4.15660724e-27, 4.14990843e-27, 4.14323118e-27,\n",
              "       4.13657539e-27, 4.12994094e-27, 4.12332774e-27, 4.11673569e-27,\n",
              "       4.11016468e-27, 4.10361461e-27, 4.09708539e-27, 4.09057691e-27,\n",
              "       4.08408908e-27, 4.07762179e-27, 4.07117496e-27, 4.06474848e-27,\n",
              "       4.05834225e-27, 4.05195619e-27, 4.04559019e-27, 4.03924416e-27,\n",
              "       4.03291801e-27, 4.02661165e-27, 4.02032498e-27, 4.01405791e-27,\n",
              "       4.00781034e-27, 4.00158220e-27, 3.99537338e-27, 3.98918380e-27,\n",
              "       3.98301336e-27, 3.97686199e-27, 3.97072958e-27, 3.96461606e-27,\n",
              "       3.95852134e-27, 3.95244533e-27, 3.94638794e-27, 3.94034909e-27,\n",
              "       3.93432869e-27, 3.92832666e-27, 3.92234291e-27, 3.91637737e-27,\n",
              "       3.91042995e-27, 3.90450056e-27, 3.89858912e-27, 3.89269556e-27,\n",
              "       3.88681979e-27, 3.88096174e-27, 3.87512131e-27, 3.86929844e-27,\n",
              "       3.86349304e-27, 3.85770503e-27, 3.85193434e-27, 3.84618089e-27,\n",
              "       3.84044460e-27, 3.83472539e-27, 3.82902320e-27, 3.82333793e-27,\n",
              "       3.81766953e-27, 3.81201791e-27, 3.80638299e-27, 3.80076471e-27,\n",
              "       3.79516299e-27, 3.78957776e-27, 3.78400895e-27, 3.77845647e-27,\n",
              "       3.77292027e-27, 3.76740027e-27, 3.76189640e-27, 3.75640858e-27,\n",
              "       3.75093675e-27, 3.74548084e-27, 3.74004078e-27, 3.73461650e-27,\n",
              "       3.72920793e-27, 3.72381500e-27, 3.71843765e-27, 3.71307581e-27,\n",
              "       3.70772940e-27, 3.70239837e-27, 3.69708265e-27, 3.69178217e-27,\n",
              "       3.68649687e-27, 3.68122668e-27, 3.67597154e-27, 3.67073138e-27,\n",
              "       3.66550613e-27, 3.66029575e-27, 3.65510015e-27, 3.64991929e-27,\n",
              "       3.64475309e-27, 3.63960149e-27, 3.63446444e-27, 3.62934186e-27,\n",
              "       3.62423371e-27, 3.61913991e-27, 3.61406042e-27, 3.60899516e-27,\n",
              "       3.60394408e-27, 3.59890712e-27, 3.59388422e-27, 3.58887532e-27,\n",
              "       3.58388036e-27, 3.57889929e-27, 3.57393204e-27, 3.56897857e-27,\n",
              "       3.56403880e-27, 3.55911269e-27, 3.55420018e-27, 3.54930122e-27,\n",
              "       3.54441573e-27, 3.53954368e-27, 3.53468501e-27, 3.52983965e-27,\n",
              "       3.52500757e-27, 3.52018869e-27, 3.51538297e-27, 3.51059035e-27,\n",
              "       3.50581079e-27, 3.50104422e-27, 3.49629059e-27, 3.49154986e-27,\n",
              "       3.48682196e-27, 3.48210685e-27, 3.47740448e-27, 3.47271479e-27,\n",
              "       3.46803773e-27, 3.46337325e-27, 3.45872131e-27, 3.45408184e-27,\n",
              "       3.44945480e-27, 3.44484015e-27, 3.44023782e-27, 3.43564777e-27,\n",
              "       3.43106996e-27, 3.42650433e-27, 3.42195084e-27, 3.41740943e-27,\n",
              "       3.41288006e-27, 3.40836267e-27, 3.40385724e-27, 3.39936369e-27,\n",
              "       3.39488200e-27, 3.39041211e-27, 3.38595397e-27, 3.38150754e-27,\n",
              "       3.37707278e-27, 3.37264963e-27, 3.36823805e-27, 3.36383800e-27,\n",
              "       3.35944943e-27, 3.35507230e-27, 3.35070656e-27, 3.34635216e-27,\n",
              "       3.34200907e-27, 3.33767723e-27, 3.33335661e-27, 3.32904717e-27,\n",
              "       3.32474885e-27, 3.32046161e-27, 3.31618542e-27, 3.31192023e-27,\n",
              "       3.30766600e-27, 3.30342268e-27, 3.29919023e-27, 3.29496862e-27,\n",
              "       3.29075780e-27, 3.28655772e-27, 3.28236835e-27, 3.27818965e-27,\n",
              "       3.27402158e-27, 3.26986409e-27, 3.26571715e-27, 3.26158071e-27,\n",
              "       3.25745474e-27, 3.25333919e-27, 3.24923403e-27, 3.24513921e-27,\n",
              "       3.24105471e-27, 3.23698047e-27, 3.23291646e-27, 3.22886265e-27,\n",
              "       3.22481899e-27, 3.22078544e-27, 3.21676197e-27, 3.21274855e-27,\n",
              "       3.20874512e-27, 3.20475166e-27, 3.20076812e-27, 3.19679448e-27,\n",
              "       3.19283069e-27, 3.18887672e-27, 3.18493253e-27, 3.18099809e-27,\n",
              "       3.17707335e-27, 3.17315829e-27, 3.16925286e-27, 3.16535704e-27,\n",
              "       3.16147078e-27, 3.15759405e-27, 3.15372682e-27, 3.14986905e-27,\n",
              "       3.14602070e-27, 3.14218175e-27, 3.13835216e-27, 3.13453188e-27,\n",
              "       3.13072090e-27, 3.12691918e-27, 3.12312667e-27, 3.11934336e-27,\n",
              "       3.11556919e-27, 3.11180415e-27, 3.10804820e-27, 3.10430131e-27,\n",
              "       3.10056344e-27, 3.09683456e-27, 3.09311464e-27, 3.08940364e-27,\n",
              "       3.08570154e-27, 3.08200830e-27, 3.07832389e-27, 3.07464828e-27,\n",
              "       3.07098143e-27, 3.06732332e-27, 3.06367392e-27, 3.06003319e-27,\n",
              "       3.05640110e-27, 3.05277762e-27, 3.04916273e-27, 3.04555639e-27,\n",
              "       3.04195856e-27, 3.03836923e-27, 3.03478836e-27, 3.03121592e-27,\n",
              "       3.02765188e-27, 3.02409621e-27, 3.02054888e-27, 3.01700986e-27,\n",
              "       3.01347913e-27, 3.00995665e-27, 3.00644240e-27, 3.00293635e-27,\n",
              "       2.99943846e-27, 2.99594871e-27, 2.99246707e-27, 2.98899352e-27,\n",
              "       2.98552802e-27, 2.98207054e-27, 2.97862107e-27, 2.97517956e-27,\n",
              "       2.97174600e-27, 2.96832036e-27, 2.96490260e-27, 2.96149271e-27,\n",
              "       2.95809065e-27, 2.95469639e-27, 2.95130992e-27, 2.94793120e-27,\n",
              "       2.94456021e-27, 2.94119692e-27, 2.93784131e-27, 2.93449334e-27,\n",
              "       2.93115299e-27, 2.92782024e-27, 2.92449506e-27, 2.92117743e-27,\n",
              "       2.91786731e-27, 2.91456469e-27, 2.91126953e-27, 2.90798182e-27,\n",
              "       2.90470152e-27, 2.90142862e-27, 2.89816308e-27, 2.89490489e-27,\n",
              "       2.89165401e-27, 2.88841043e-27, 2.88517411e-27, 2.88194504e-27,\n",
              "       2.87872319e-27, 2.87550853e-27, 2.87230105e-27, 2.86910071e-27,\n",
              "       2.86590750e-27, 2.86272139e-27, 2.85954235e-27, 2.85637037e-27,\n",
              "       2.85320542e-27, 2.85004747e-27, 2.84689650e-27, 2.84375250e-27,\n",
              "       2.84061543e-27, 2.83748527e-27, 2.83436201e-27, 2.83124561e-27,\n",
              "       2.82813606e-27, 2.82503333e-27, 2.82193741e-27, 2.81884826e-27,\n",
              "       2.81576586e-27, 2.81269020e-27, 2.80962126e-27, 2.80655900e-27,\n",
              "       2.80350341e-27, 2.80045446e-27, 2.79741214e-27, 2.79437643e-27,\n",
              "       2.79134729e-27, 2.78832472e-27, 2.78530868e-27, 2.78229916e-27,\n",
              "       2.77929614e-27, 2.77629959e-27, 2.77330950e-27, 2.77032585e-27,\n",
              "       2.76734860e-27, 2.76437775e-27, 2.76141327e-27, 2.75845514e-27,\n",
              "       2.75550334e-27, 2.75255785e-27, 2.74961865e-27, 2.74668573e-27,\n",
              "       2.74375905e-27, 2.74083860e-27, 2.73792437e-27, 2.73501632e-27,\n",
              "       2.73211445e-27, 2.72921872e-27, 2.72632913e-27, 2.72344565e-27,\n",
              "       2.72056827e-27, 2.71769695e-27, 2.71483170e-27, 2.71197247e-27,\n",
              "       2.70911927e-27, 2.70627206e-27, 2.70343083e-27, 2.70059555e-27,\n",
              "       2.69776622e-27, 2.69494282e-27, 2.69212531e-27, 2.68931369e-27,\n",
              "       2.68650794e-27, 2.68370803e-27, 2.68091396e-27, 2.67812570e-27,\n",
              "       2.67534323e-27, 2.67256653e-27, 2.66979560e-27, 2.66703040e-27,\n",
              "       2.66427093e-27, 2.66151716e-27, 2.65876908e-27, 2.65602667e-27,\n",
              "       2.65328990e-27, 2.65055878e-27, 2.64783327e-27, 2.64511336e-27,\n",
              "       2.64239903e-27, 2.63969026e-27, 2.63698705e-27, 2.63428936e-27,\n",
              "       2.63159719e-27, 2.62891051e-27, 2.62622932e-27, 2.62355359e-27,\n",
              "       2.62088330e-27, 2.61821845e-27, 2.61555901e-27, 2.61290497e-27,\n",
              "       2.61025631e-27, 2.60761301e-27, 2.60497506e-27, 2.60234244e-27,\n",
              "       2.59971514e-27, 2.59709313e-27, 2.59447642e-27, 2.59186496e-27,\n",
              "       2.58925876e-27, 2.58665780e-27, 2.58406206e-27, 2.58147152e-27,\n",
              "       2.57888617e-27, 2.57630599e-27, 2.57373097e-27, 2.57116110e-27,\n",
              "       2.56859635e-27, 2.56603671e-27, 2.56348217e-27, 2.56093271e-27,\n",
              "       2.55838831e-27, 2.55584897e-27, 2.55331466e-27, 2.55078537e-27,\n",
              "       2.54826109e-27, 2.54574180e-27, 2.54322749e-27, 2.54071814e-27,\n",
              "       2.53821373e-27, 2.53571426e-27, 2.53321971e-27, 2.53073006e-27,\n",
              "       2.52824529e-27, 2.52576541e-27, 2.52329038e-27, 2.52082020e-27,\n",
              "       2.51835485e-27, 2.51589431e-27, 2.51343858e-27, 2.51098764e-27,\n",
              "       2.50854148e-27, 2.50610008e-27, 2.50366342e-27, 2.50123150e-27,\n",
              "       2.49880430e-27, 2.49638180e-27, 2.49396400e-27, 2.49155087e-27,\n",
              "       2.48914241e-27, 2.48673860e-27, 2.48433944e-27, 2.48194489e-27,\n",
              "       2.47955496e-27, 2.47716962e-27, 2.47478887e-27, 2.47241270e-27,\n",
              "       2.47004108e-27, 2.46767400e-27, 2.46531146e-27, 2.46295344e-27,\n",
              "       2.46059992e-27, 2.45825090e-27, 2.45590636e-27, 2.45356629e-27,\n",
              "       2.45123067e-27, 2.44889949e-27, 2.44657275e-27, 2.44425042e-27,\n",
              "       2.44193250e-27, 2.43961896e-27, 2.43730981e-27, 2.43500503e-27,\n",
              "       2.43270460e-27, 2.43040851e-27, 2.42811675e-27, 2.42582931e-27,\n",
              "       2.42354618e-27, 2.42126734e-27, 2.41899278e-27, 2.41672249e-27,\n",
              "       2.41445646e-27, 2.41219467e-27, 2.40993712e-27, 2.40768379e-27,\n",
              "       2.40543467e-27, 2.40318974e-27, 2.40094901e-27, 2.39871245e-27,\n",
              "       2.39648005e-27, 2.39425180e-27, 2.39202769e-27, 2.38980771e-27,\n",
              "       2.38759185e-27, 2.38538009e-27, 2.38317243e-27, 2.38096885e-27,\n",
              "       2.37876934e-27, 2.37657389e-27, 2.37438249e-27, 2.37219512e-27,\n",
              "       2.37001179e-27, 2.36783247e-27, 2.36565715e-27, 2.36348582e-27,\n",
              "       2.36131848e-27, 2.35915511e-27, 2.35699570e-27, 2.35484024e-27,\n",
              "       2.35268872e-27, 2.35054113e-27, 2.34839745e-27, 2.34625768e-27,\n",
              "       2.34412180e-27, 2.34198982e-27, 2.33986170e-27, 2.33773745e-27,\n",
              "       2.33561705e-27, 2.33350050e-27, 2.33138778e-27, 2.32927888e-27,\n",
              "       2.32717379e-27, 2.32507251e-27, 2.32297501e-27, 2.32088130e-27,\n",
              "       2.31879135e-27, 2.31670517e-27, 2.31462274e-27, 2.31254405e-27,\n",
              "       2.31046909e-27, 2.30839785e-27, 2.30633032e-27, 2.30426648e-27,\n",
              "       2.30220634e-27, 2.30014988e-27, 2.29809710e-27, 2.29604797e-27,\n",
              "       2.29400249e-27, 2.29196065e-27, 2.28992245e-27, 2.28788787e-27,\n",
              "       2.28585690e-27, 2.28382953e-27, 2.28180575e-27, 2.27978556e-27,\n",
              "       2.27776895e-27, 2.27575589e-27, 2.27374639e-27, 2.27174044e-27,\n",
              "       2.26973803e-27, 2.26773914e-27, 2.26574377e-27, 2.26375190e-27,\n",
              "       2.26176354e-27, 2.25977867e-27, 2.25779727e-27, 2.25581935e-27,\n",
              "       2.25384489e-27, 2.25187389e-27, 2.24990632e-27, 2.24794220e-27,\n",
              "       2.24598150e-27, 2.24402422e-27, 2.24207034e-27, 2.24011987e-27,\n",
              "       2.23817278e-27, 2.23622908e-27, 2.23428875e-27, 2.23235179e-27,\n",
              "       2.23041818e-27, 2.22848791e-27, 2.22656099e-27, 2.22463740e-27,\n",
              "       2.22271712e-27, 2.22080016e-27, 2.21888650e-27, 2.21697614e-27,\n",
              "       2.21506906e-27, 2.21316526e-27, 2.21126473e-27, 2.20936747e-27,\n",
              "       2.20747345e-27, 2.20558268e-27, 2.20369515e-27, 2.20181084e-27,\n",
              "       2.19992976e-27, 2.19805188e-27, 2.19617721e-27, 2.19430574e-27,\n",
              "       2.19243745e-27, 2.19057234e-27, 2.18871040e-27, 2.18685162e-27,\n",
              "       2.18499599e-27, 2.18314352e-27, 2.18129418e-27, 2.17944797e-27,\n",
              "       2.17760489e-27, 2.17576492e-27, 2.17392805e-27, 2.17209429e-27,\n",
              "       2.17026361e-27, 2.16843602e-27, 2.16661151e-27, 2.16479006e-27,\n",
              "       2.16297167e-27, 2.16115634e-27, 2.15934405e-27, 2.15753479e-27,\n",
              "       2.15572857e-27, 2.15392537e-27, 2.15212518e-27, 2.15032800e-27,\n",
              "       2.14853381e-27, 2.14674262e-27, 2.14495441e-27, 2.14316918e-27,\n",
              "       2.14138692e-27, 2.13960762e-27, 2.13783128e-27, 2.13605788e-27,\n",
              "       2.13428742e-27, 2.13251989e-27, 2.13075529e-27, 2.12899361e-27,\n",
              "       2.12723484e-27, 2.12547897e-27, 2.12372600e-27, 2.12197591e-27,\n",
              "       2.12022871e-27, 2.11848438e-27, 2.11674293e-27, 2.11500433e-27,\n",
              "       2.11326858e-27, 2.11153569e-27, 2.10980563e-27, 2.10807840e-27,\n",
              "       2.10635400e-27, 2.10463242e-27, 2.10291365e-27, 2.10119769e-27,\n",
              "       2.09948452e-27, 2.09777415e-27, 2.09606656e-27, 2.09436175e-27,\n",
              "       2.09265970e-27, 2.09096043e-27, 2.08926391e-27, 2.08757014e-27,\n",
              "       2.08587911e-27, 2.08419083e-27, 2.08250527e-27, 2.08082244e-27,\n",
              "       2.07914232e-27, 2.07746492e-27, 2.07579022e-27, 2.07411821e-27,\n",
              "       2.07244890e-27, 2.07078228e-27, 2.06911833e-27, 2.06745706e-27,\n",
              "       2.06579845e-27, 2.06414250e-27, 2.06248920e-27, 2.06083855e-27])"
            ]
          },
          "metadata": {},
          "execution_count": 11
        }
      ]
    },
    {
      "cell_type": "code",
      "execution_count": null,
      "id": "24673d43",
      "metadata": {
        "id": "24673d43",
        "outputId": "30a28f8b-7380-448c-a6ec-80f59a81c6be",
        "colab": {
          "base_uri": "https://localhost:8080/"
        }
      },
      "outputs": [
        {
          "output_type": "execute_result",
          "data": {
            "text/plain": [
              "7.168578223221978e-17"
            ]
          },
          "metadata": {},
          "execution_count": 12
        }
      ],
      "source": [
        "Mdot*Msun"
      ]
    },
    {
      "cell_type": "code",
      "execution_count": null,
      "id": "2e772f67",
      "metadata": {
        "id": "2e772f67",
        "outputId": "54003975-8279-44f9-cb1a-5707fe8a5afb",
        "colab": {
          "base_uri": "https://localhost:8080/"
        }
      },
      "outputs": [
        {
          "output_type": "execute_result",
          "data": {
            "text/plain": [
              "2.0608384351263984e-27"
            ]
          },
          "metadata": {},
          "execution_count": 13
        }
      ],
      "source": [
        "k2"
      ]
    },
    {
      "cell_type": "code",
      "execution_count": null,
      "id": "7067dddd",
      "metadata": {
        "id": "7067dddd",
        "outputId": "a29c87cf-8426-4d8b-b753-edc7a48c17f8",
        "colab": {
          "base_uri": "https://localhost:8080/",
          "height": 462
        }
      },
      "outputs": [
        {
          "output_type": "execute_result",
          "data": {
            "text/plain": [
              "[<matplotlib.lines.Line2D at 0x7f1ae98214c0>]"
            ]
          },
          "metadata": {},
          "execution_count": 14
        },
        {
          "output_type": "display_data",
          "data": {
            "text/plain": [
              "<Figure size 640x480 with 1 Axes>"
            ],
            "image/png": "[encoded data removed]"
          },
          "metadata": {}
        }
      ],
      "source": [
        "plt.plot(r,sigmas)\n",
        "#plt.plot(r,sigmas)"
      ]
    },
    {
      "cell_type": "code",
      "execution_count": null,
      "id": "f1a6e038",
      "metadata": {
        "id": "f1a6e038",
        "outputId": "7980ac5c-a7d7-437a-ca4b-c761cc3e6d00",
        "colab": {
          "base_uri": "https://localhost:8080/"
        }
      },
      "outputs": [
        {
          "output_type": "execute_result",
          "data": {
            "text/plain": [
              "1.2772904892074443e-24"
            ]
          },
          "metadata": {},
          "execution_count": 15
        }
      ],
      "source": [
        "dsigma_dr(r[2],sigmas[2],M,Mdot,nu)"
      ]
    },
    {
      "cell_type": "code",
      "execution_count": null,
      "id": "366096e8",
      "metadata": {
        "id": "366096e8",
        "outputId": "ffccc8ff-6707-4b9e-9597-b0424ad4a2c8",
        "colab": {
          "base_uri": "https://localhost:8080/"
        }
      },
      "outputs": [
        {
          "output_type": "execute_result",
          "data": {
            "text/plain": [
              "array([2.   , 2.008, 2.016, 2.024, 2.032, 2.04 , 2.048, 2.056, 2.064,\n",
              "       2.072, 2.08 , 2.088, 2.096, 2.104, 2.112, 2.12 , 2.128, 2.136,\n",
              "       2.144, 2.152, 2.16 , 2.168, 2.176, 2.184, 2.192, 2.2  , 2.208,\n",
              "       2.216, 2.224, 2.232, 2.24 , 2.248, 2.256, 2.264, 2.272, 2.28 ,\n",
              "       2.288, 2.296, 2.304, 2.312, 2.32 , 2.328, 2.336, 2.344, 2.352,\n",
              "       2.36 , 2.368, 2.376, 2.384, 2.392, 2.4  , 2.408, 2.416, 2.424,\n",
              "       2.432, 2.44 , 2.448, 2.456, 2.464, 2.472, 2.48 , 2.488, 2.496,\n",
              "       2.504, 2.512, 2.52 , 2.528, 2.536, 2.544, 2.552, 2.56 , 2.568,\n",
              "       2.576, 2.584, 2.592, 2.6  , 2.608, 2.616, 2.624, 2.632, 2.64 ,\n",
              "       2.648, 2.656, 2.664, 2.672, 2.68 , 2.688, 2.696, 2.704, 2.712,\n",
              "       2.72 , 2.728, 2.736, 2.744, 2.752, 2.76 , 2.768, 2.776, 2.784,\n",
              "       2.792, 2.8  , 2.808, 2.816, 2.824, 2.832, 2.84 , 2.848, 2.856,\n",
              "       2.864, 2.872, 2.88 , 2.888, 2.896, 2.904, 2.912, 2.92 , 2.928,\n",
              "       2.936, 2.944, 2.952, 2.96 , 2.968, 2.976, 2.984, 2.992, 3.   ,\n",
              "       3.008, 3.016, 3.024, 3.032, 3.04 , 3.048, 3.056, 3.064, 3.072,\n",
              "       3.08 , 3.088, 3.096, 3.104, 3.112, 3.12 , 3.128, 3.136, 3.144,\n",
              "       3.152, 3.16 , 3.168, 3.176, 3.184, 3.192, 3.2  , 3.208, 3.216,\n",
              "       3.224, 3.232, 3.24 , 3.248, 3.256, 3.264, 3.272, 3.28 , 3.288,\n",
              "       3.296, 3.304, 3.312, 3.32 , 3.328, 3.336, 3.344, 3.352, 3.36 ,\n",
              "       3.368, 3.376, 3.384, 3.392, 3.4  , 3.408, 3.416, 3.424, 3.432,\n",
              "       3.44 , 3.448, 3.456, 3.464, 3.472, 3.48 , 3.488, 3.496, 3.504,\n",
              "       3.512, 3.52 , 3.528, 3.536, 3.544, 3.552, 3.56 , 3.568, 3.576,\n",
              "       3.584, 3.592, 3.6  , 3.608, 3.616, 3.624, 3.632, 3.64 , 3.648,\n",
              "       3.656, 3.664, 3.672, 3.68 , 3.688, 3.696, 3.704, 3.712, 3.72 ,\n",
              "       3.728, 3.736, 3.744, 3.752, 3.76 , 3.768, 3.776, 3.784, 3.792,\n",
              "       3.8  , 3.808, 3.816, 3.824, 3.832, 3.84 , 3.848, 3.856, 3.864,\n",
              "       3.872, 3.88 , 3.888, 3.896, 3.904, 3.912, 3.92 , 3.928, 3.936,\n",
              "       3.944, 3.952, 3.96 , 3.968, 3.976, 3.984, 3.992, 4.   , 4.008,\n",
              "       4.016, 4.024, 4.032, 4.04 , 4.048, 4.056, 4.064, 4.072, 4.08 ,\n",
              "       4.088, 4.096, 4.104, 4.112, 4.12 , 4.128, 4.136, 4.144, 4.152,\n",
              "       4.16 , 4.168, 4.176, 4.184, 4.192, 4.2  , 4.208, 4.216, 4.224,\n",
              "       4.232, 4.24 , 4.248, 4.256, 4.264, 4.272, 4.28 , 4.288, 4.296,\n",
              "       4.304, 4.312, 4.32 , 4.328, 4.336, 4.344, 4.352, 4.36 , 4.368,\n",
              "       4.376, 4.384, 4.392, 4.4  , 4.408, 4.416, 4.424, 4.432, 4.44 ,\n",
              "       4.448, 4.456, 4.464, 4.472, 4.48 , 4.488, 4.496, 4.504, 4.512,\n",
              "       4.52 , 4.528, 4.536, 4.544, 4.552, 4.56 , 4.568, 4.576, 4.584,\n",
              "       4.592, 4.6  , 4.608, 4.616, 4.624, 4.632, 4.64 , 4.648, 4.656,\n",
              "       4.664, 4.672, 4.68 , 4.688, 4.696, 4.704, 4.712, 4.72 , 4.728,\n",
              "       4.736, 4.744, 4.752, 4.76 , 4.768, 4.776, 4.784, 4.792, 4.8  ,\n",
              "       4.808, 4.816, 4.824, 4.832, 4.84 , 4.848, 4.856, 4.864, 4.872,\n",
              "       4.88 , 4.888, 4.896, 4.904, 4.912, 4.92 , 4.928, 4.936, 4.944,\n",
              "       4.952, 4.96 , 4.968, 4.976, 4.984, 4.992, 5.   , 5.008, 5.016,\n",
              "       5.024, 5.032, 5.04 , 5.048, 5.056, 5.064, 5.072, 5.08 , 5.088,\n",
              "       5.096, 5.104, 5.112, 5.12 , 5.128, 5.136, 5.144, 5.152, 5.16 ,\n",
              "       5.168, 5.176, 5.184, 5.192, 5.2  , 5.208, 5.216, 5.224, 5.232,\n",
              "       5.24 , 5.248, 5.256, 5.264, 5.272, 5.28 , 5.288, 5.296, 5.304,\n",
              "       5.312, 5.32 , 5.328, 5.336, 5.344, 5.352, 5.36 , 5.368, 5.376,\n",
              "       5.384, 5.392, 5.4  , 5.408, 5.416, 5.424, 5.432, 5.44 , 5.448,\n",
              "       5.456, 5.464, 5.472, 5.48 , 5.488, 5.496, 5.504, 5.512, 5.52 ,\n",
              "       5.528, 5.536, 5.544, 5.552, 5.56 , 5.568, 5.576, 5.584, 5.592,\n",
              "       5.6  , 5.608, 5.616, 5.624, 5.632, 5.64 , 5.648, 5.656, 5.664,\n",
              "       5.672, 5.68 , 5.688, 5.696, 5.704, 5.712, 5.72 , 5.728, 5.736,\n",
              "       5.744, 5.752, 5.76 , 5.768, 5.776, 5.784, 5.792, 5.8  , 5.808,\n",
              "       5.816, 5.824, 5.832, 5.84 , 5.848, 5.856, 5.864, 5.872, 5.88 ,\n",
              "       5.888, 5.896, 5.904, 5.912, 5.92 , 5.928, 5.936, 5.944, 5.952,\n",
              "       5.96 , 5.968, 5.976, 5.984, 5.992, 6.   , 6.008, 6.016, 6.024,\n",
              "       6.032, 6.04 , 6.048, 6.056, 6.064, 6.072, 6.08 , 6.088, 6.096,\n",
              "       6.104, 6.112, 6.12 , 6.128, 6.136, 6.144, 6.152, 6.16 , 6.168,\n",
              "       6.176, 6.184, 6.192, 6.2  , 6.208, 6.216, 6.224, 6.232, 6.24 ,\n",
              "       6.248, 6.256, 6.264, 6.272, 6.28 , 6.288, 6.296, 6.304, 6.312,\n",
              "       6.32 , 6.328, 6.336, 6.344, 6.352, 6.36 , 6.368, 6.376, 6.384,\n",
              "       6.392, 6.4  , 6.408, 6.416, 6.424, 6.432, 6.44 , 6.448, 6.456,\n",
              "       6.464, 6.472, 6.48 , 6.488, 6.496, 6.504, 6.512, 6.52 , 6.528,\n",
              "       6.536, 6.544, 6.552, 6.56 , 6.568, 6.576, 6.584, 6.592, 6.6  ,\n",
              "       6.608, 6.616, 6.624, 6.632, 6.64 , 6.648, 6.656, 6.664, 6.672,\n",
              "       6.68 , 6.688, 6.696, 6.704, 6.712, 6.72 , 6.728, 6.736, 6.744,\n",
              "       6.752, 6.76 , 6.768, 6.776, 6.784, 6.792, 6.8  , 6.808, 6.816,\n",
              "       6.824, 6.832, 6.84 , 6.848, 6.856, 6.864, 6.872, 6.88 , 6.888,\n",
              "       6.896, 6.904, 6.912, 6.92 , 6.928, 6.936, 6.944, 6.952, 6.96 ,\n",
              "       6.968, 6.976, 6.984, 6.992, 7.   , 7.008, 7.016, 7.024, 7.032,\n",
              "       7.04 , 7.048, 7.056, 7.064, 7.072, 7.08 , 7.088, 7.096, 7.104,\n",
              "       7.112, 7.12 , 7.128, 7.136, 7.144, 7.152, 7.16 , 7.168, 7.176,\n",
              "       7.184, 7.192, 7.2  , 7.208, 7.216, 7.224, 7.232, 7.24 , 7.248,\n",
              "       7.256, 7.264, 7.272, 7.28 , 7.288, 7.296, 7.304, 7.312, 7.32 ,\n",
              "       7.328, 7.336, 7.344, 7.352, 7.36 , 7.368, 7.376, 7.384, 7.392,\n",
              "       7.4  , 7.408, 7.416, 7.424, 7.432, 7.44 , 7.448, 7.456, 7.464,\n",
              "       7.472, 7.48 , 7.488, 7.496, 7.504, 7.512, 7.52 , 7.528, 7.536,\n",
              "       7.544, 7.552, 7.56 , 7.568, 7.576, 7.584, 7.592, 7.6  , 7.608,\n",
              "       7.616, 7.624, 7.632, 7.64 , 7.648, 7.656, 7.664, 7.672, 7.68 ,\n",
              "       7.688, 7.696, 7.704, 7.712, 7.72 , 7.728, 7.736, 7.744, 7.752,\n",
              "       7.76 , 7.768, 7.776, 7.784, 7.792, 7.8  , 7.808, 7.816, 7.824,\n",
              "       7.832, 7.84 , 7.848, 7.856, 7.864, 7.872, 7.88 , 7.888, 7.896,\n",
              "       7.904, 7.912, 7.92 , 7.928, 7.936, 7.944, 7.952, 7.96 , 7.968,\n",
              "       7.976, 7.984, 7.992, 8.   , 8.008, 8.016, 8.024, 8.032, 8.04 ,\n",
              "       8.048, 8.056, 8.064, 8.072, 8.08 , 8.088, 8.096, 8.104, 8.112,\n",
              "       8.12 , 8.128, 8.136, 8.144, 8.152, 8.16 , 8.168, 8.176, 8.184,\n",
              "       8.192, 8.2  , 8.208, 8.216, 8.224, 8.232, 8.24 , 8.248, 8.256,\n",
              "       8.264, 8.272, 8.28 , 8.288, 8.296, 8.304, 8.312, 8.32 , 8.328,\n",
              "       8.336, 8.344, 8.352, 8.36 , 8.368, 8.376, 8.384, 8.392, 8.4  ,\n",
              "       8.408, 8.416, 8.424, 8.432, 8.44 , 8.448, 8.456, 8.464, 8.472,\n",
              "       8.48 , 8.488, 8.496, 8.504, 8.512, 8.52 , 8.528, 8.536, 8.544,\n",
              "       8.552, 8.56 , 8.568, 8.576, 8.584, 8.592, 8.6  , 8.608, 8.616,\n",
              "       8.624, 8.632, 8.64 , 8.648, 8.656, 8.664, 8.672, 8.68 , 8.688,\n",
              "       8.696, 8.704, 8.712, 8.72 , 8.728, 8.736, 8.744, 8.752, 8.76 ,\n",
              "       8.768, 8.776, 8.784, 8.792, 8.8  , 8.808, 8.816, 8.824, 8.832,\n",
              "       8.84 , 8.848, 8.856, 8.864, 8.872, 8.88 , 8.888, 8.896, 8.904,\n",
              "       8.912, 8.92 , 8.928, 8.936, 8.944, 8.952, 8.96 , 8.968, 8.976,\n",
              "       8.984, 8.992, 9.   , 9.008, 9.016, 9.024, 9.032, 9.04 , 9.048,\n",
              "       9.056, 9.064, 9.072, 9.08 , 9.088, 9.096, 9.104, 9.112, 9.12 ,\n",
              "       9.128, 9.136, 9.144, 9.152, 9.16 , 9.168, 9.176, 9.184, 9.192,\n",
              "       9.2  , 9.208, 9.216, 9.224, 9.232, 9.24 , 9.248, 9.256, 9.264,\n",
              "       9.272, 9.28 , 9.288, 9.296, 9.304, 9.312, 9.32 , 9.328, 9.336,\n",
              "       9.344, 9.352, 9.36 , 9.368, 9.376, 9.384, 9.392, 9.4  , 9.408,\n",
              "       9.416, 9.424, 9.432, 9.44 , 9.448, 9.456, 9.464, 9.472, 9.48 ,\n",
              "       9.488, 9.496, 9.504, 9.512, 9.52 , 9.528, 9.536, 9.544, 9.552,\n",
              "       9.56 , 9.568, 9.576, 9.584, 9.592, 9.6  , 9.608, 9.616, 9.624,\n",
              "       9.632, 9.64 , 9.648, 9.656, 9.664, 9.672, 9.68 , 9.688, 9.696,\n",
              "       9.704, 9.712, 9.72 , 9.728, 9.736, 9.744, 9.752, 9.76 , 9.768,\n",
              "       9.776, 9.784, 9.792, 9.8  , 9.808, 9.816, 9.824, 9.832, 9.84 ,\n",
              "       9.848, 9.856, 9.864, 9.872, 9.88 , 9.888, 9.896, 9.904, 9.912,\n",
              "       9.92 , 9.928, 9.936, 9.944, 9.952, 9.96 , 9.968, 9.976, 9.984,\n",
              "       9.992])"
            ]
          },
          "metadata": {},
          "execution_count": 16
        }
      ],
      "source": [
        "r"
      ]
    },
    {
      "cell_type": "markdown",
      "id": "edce66f9",
      "metadata": {
        "id": "edce66f9"
      },
      "source": [
        "# Analytical"
      ]
    },
    {
      "cell_type": "code",
      "execution_count": null,
      "id": "9c8f37f7",
      "metadata": {
        "id": "9c8f37f7",
        "outputId": "14a697f0-30fe-46b6-88f6-5f0c29f91aab",
        "colab": {
          "base_uri": "https://localhost:8080/",
          "height": 462
        }
      },
      "outputs": [
        {
          "output_type": "execute_result",
          "data": {
            "text/plain": [
              "[<matplotlib.lines.Line2D at 0x7f1ae97221f0>]"
            ]
          },
          "metadata": {},
          "execution_count": 17
        },
        {
          "output_type": "display_data",
          "data": {
            "text/plain": [
              "<Figure size 640x480 with 1 Axes>"
            ],
            "image/png": "[encoded data removed]"
          },
          "metadata": {}
        }
      ],
      "source": [
        "M = 10\n",
        "#r = np.linspace(3,10,100)\n",
        "Mdot = m_edd(10)/Msun\n",
        "nu = 0.5\n",
        "r_star = 3\n",
        "\n",
        "density = sigma_ana(Mdot,r,r_star,nu)\n",
        "plt.plot(r,density)"
      ]
    },
    {
      "cell_type": "code",
      "execution_count": null,
      "id": "c41a1cc0",
      "metadata": {
        "id": "c41a1cc0"
      },
      "outputs": [],
      "source": []
    },
    {
      "cell_type": "code",
      "execution_count": null,
      "id": "335ce7c9",
      "metadata": {
        "id": "335ce7c9",
        "outputId": "c4a06980-2ede-4e99-fed1-201a2392a2bd",
        "colab": {
          "base_uri": "https://localhost:8080/"
        }
      },
      "outputs": [
        {
          "output_type": "execute_result",
          "data": {
            "text/plain": [
              "2953804.1430717465"
            ]
          },
          "metadata": {},
          "execution_count": 18
        }
      ],
      "source": [
        "schwarz(10)"
      ]
    },
    {
      "cell_type": "code",
      "execution_count": 3,
      "id": "7f247dcb",
      "metadata": {
        "id": "7f247dcb"
      },
      "outputs": [],
      "source": [
        " class SS:\n",
        "    def __init__(self, M, M_dot, nu, r_out, r_in=3):\n",
        "        \"\"\"\n",
        "        M = mass of black hole / solar mass\n",
        "        M_dot = mass accretion rate \n",
        "        alpha = viscosity parameter (0<alpha<=1)\n",
        "        r_out = radius of disk's outer edge \n",
        "        r_in = radius of disk's inner edge \n",
        "\n",
        "        \"\"\"\n",
        "        self.rg = 2*G*M*Msun/2.99792458e10**2\n",
        "        self.M = M*Msun #grams\n",
        "        self.M_dot = M_dot*M*MEsun #grams /s\n",
        "        #self.alpha = alpha\n",
        "        self.r_in = r_in*self.rg #cm\n",
        "        self.r_out = r_out*self.rg\n",
        "        self.nu = nu \n",
        "        self.dr = 0\n",
        "        #self.H = self.p/self.sigma * (self.r_out**3)/(G*self.M)\n",
        "        #self.rho = self.sigma / self.H   \n",
        "        #self.r = np.geomspace(self.r_in, self.r_out, N+1)[1:]\n",
        "\n",
        "        self.r = np.linspace(self.r_in,self.r_out,1000)\n",
        "        self.H = 0.016*self.r\n",
        "\n",
        "        self.r_boundary = 0\n",
        "        #self.y = StandardModel.solve(self, self.r)\n",
        "        \n",
        "        #if r_out is less than 3*rg, do calculations by assuming that all values at those 'r' is 0 \n",
        "        # if r_out < 3*rg:\n",
        "        #   self.sigma = 0\n",
        "    \n",
        "        '''\n",
        "        #gas pressure\n",
        "        pgas = (self.rho*kB*self.Tc)/mH\n",
        "\n",
        "        #radiation pressure\n",
        "        prad = (4*sigmaT*(self.Tc)**4)/(3*c)\n",
        "\n",
        "        #electron scattering/mp\n",
        "        kappa = sigmaT/mp\n",
        "\n",
        "        #inner disk\n",
        "        if 3 < r_out < 5:\n",
        "          self.p = prad\n",
        "          self.kappa = kappa\n",
        "\n",
        "        #middle disk\n",
        "        if 5 < r_out < 8:\n",
        "          self.p = pgas\n",
        "          self.kappa = kappa\n",
        "\n",
        "        #outer disk:\n",
        "        if r_out > 8:\n",
        "          self.p = pgas\n",
        "          self.kappa = 6.6e22*self.rho*(self.Tc)**(-7/2)\n",
        "        '''\n",
        "    def get_kappa(self):\n",
        "\n",
        "        kappa = sigmaT/mp\n",
        "        self.kappa = kappa\n",
        "\n",
        "        return self.kappa\n",
        "\n",
        "\n",
        "    def analytical_middle(self,alpha):\n",
        "  \n",
        "        #Analytical Solution for the middle; gas pressure dominated with Kramer's Opacity\n",
        "    \n",
        "        m = self.M/Msun\n",
        "        mdot = self.M_dot/(3e-8) * (Msun/self.M)\n",
        "        r = self.r / self.rg\n",
        "        \n",
        "        #am i applying dimensionaless thingy twice? Make sure that the thing i am inputting has dimensions\n",
        "        #and then i apply the dimensionlessing thing\n",
        "        \n",
        "        sigma = 1.7e5*(alpha**(-4/5))*(mdot**(3/5))*(m*(1/5))*(r**(-3/5))*(1-r**(-1/2))**(3/5) #g/cm^2\n",
        "        Tc = 3.1e8*(alpha**(-1/5))*(mdot**(2/5))*(m**(-1/5))*(r**(-9/10))*(1-r**(-1/2))**(2/5) \n",
        "        H = 1.2e4*(alpha**(-1/10))*(mdot**(1/5))*(m**(1/5))*(r**(21/20))*(1-r**(-1/2))**(1/5)\n",
        "        rho = 4.2e24*(alpha**(-7/10))*(mdot**(2/5))*(m**(-7/10))*(r**(-33/20))*(1-r**(-1/2))**(2/5)\n",
        "        tau = 1e2*(alpha**(-4/5))*(mdot**(9/10))*(m**(1/5))*(r**(3/20))*(1-r**(-1/2))**(9/10)\n",
        "        vr = 2e6**(alpha**(4/5))*(mdot**(2/5))*(m**(-1/5))*(r**(-2/5))*(1-r**(-1/2))**(-3/5)\n",
        "    \n",
        "        \n",
        "        return (sigma,Tc,H,rho,tau,vr)\n",
        "\n",
        "    def omega(self,x):\n",
        "        '''\n",
        "        Keplerian Angular speed \n",
        "        M in Msun\n",
        "        r in rschwarz\n",
        "        '''\n",
        "        return (G*self.M/((x*self.rg)**3))**0.5\n",
        "    \n",
        "    def omegaprimes(self,x):\n",
        "        '''\n",
        "        M in Msun\n",
        "        r in rschwarz\n",
        "        '''\n",
        "        prime = (-1.5)*(G*self.M/((x*self.rg)**5))**0.5\n",
        "        doubleprime = (15/4)*(G*self.M/((x*self.rg)**7))**0.5\n",
        "        \n",
        "        return (prime,doubleprime)\n",
        "    \n",
        "    def dsigma_dr(self,x,sigma):\n",
        "        '''\n",
        "        derivative of sigma with respect to r. This is used to solved the ODE\n",
        "        '''\n",
        "    \n",
        "        m = self.M\n",
        "        mdot = self.M_dot\n",
        "        r = x*self.rg \n",
        "        \n",
        "        num = 2*mdot*r*self.omega(x) + mdot*r**2*self.omegaprimes(x)[0] - 6*np.pi*r**2*self.nu*sigma*self.omegaprimes(x)[0] - 2*np.pi*r**3*self.nu*sigma*self.omegaprimes(x)[1]\n",
        "        #num = 2*(r*schwarz(M))*(Mdot*Msun) + domega_dr(M,r) - 2*np.pi*nu*(r*schwarz(M))**3*sigma*d2omega_d2r(M,r) - 4*np.pi*sigma*nu*domega_dr(M,r)*(r*schwarz(M))**2\n",
        "        \n",
        "        den = -2*np.pi*self.nu*self.omegaprimes(x)[0]*r**3\n",
        "        \n",
        "        return np.divide(num,den)\n",
        "\n",
        "    def numerical_middle_sigma(self,a,b,N):\n",
        "        \n",
        "    \n",
        "        h = (b-a)/N\n",
        "        sigmas = np.zeros(N)\n",
        "\n",
        "        s0 = 0\n",
        "        sigmas[0] = 0\n",
        "\n",
        "        for i in range (0,N):\n",
        "            s = sigmas[i]\n",
        "            k1 = h * self.dsigma_dr(self.r[i]/self.rg,s)\n",
        "            k2 = h * self.dsigma_dr(self.r[i]/self.rg + 0.5 * h, s + 0.5 * k1)\n",
        "            k3 = h * self.dsigma_dr(self.r[i]/self.rg + 0.5 * h, s + 0.5 * k2)\n",
        "            k4 = h * self.dsigma_dr(self.r[i]/self.rg + h, s + k3)\n",
        "\n",
        "            if self.r[i] < 3*self.rg:\n",
        "              #print(\"omg\")\n",
        "              sigmas[i] = 0\n",
        "            else:\n",
        "              sigmas[i] = s + (1/6)*(k1 + 2*k2 + 2*k3 + k4)\n",
        "            #sigmas[i] = s + (1/6)*(k1 + 2*k2 + 2*k3 + k4)\n",
        "\n",
        "        \n",
        "        #self.sigma = sigmas\n",
        "\n",
        "        #adding stuff will edit later\n",
        "        #self.tau = self.sigma*self.kappa\n",
        "\n",
        "        #self.H = self.p/self.sigma * (self.r_out**3)/(G*self.M) # should the r_out be self.r_out?\n",
        "\n",
        "        #self.rho = self.sigma / self.H     \n",
        "\n",
        "        #dens = lambda z: np.exp(-z**2/)\n",
        "\n",
        "        return sigmas\n",
        "\n",
        "\n",
        "\n",
        "    def get_sigma_num(self):\n",
        "        self.get_kappa()\n",
        "        a = self.r_in\n",
        "        b = self.r_out\n",
        "        N = len(self.r)\n",
        "        self.sigma = self.numerical_middle_sigma(a,b,N)\n",
        "        self.Tau = self.kappa*self.sigma\n",
        "        return self.sigma,self.r,self.Tau\n",
        "\n",
        "    def get_rho_num(self):\n",
        "        self.rho = self.get_sigma_num()[0]/self.H\n",
        "        return self.rho\n",
        "\n",
        "    def get_bdry(self):\n",
        "\n",
        "        #gas pressure\n",
        "        #pgas = (self.rho*kB*self.Tc)/mH\n",
        "\n",
        "        #radiation pressure\n",
        "        #prad = (4*sigmaT*(self.Tc)**4)/(3*c)\n",
        "\n",
        "        self.get_rho_num()\n",
        "        self.get_tc_num()\n",
        "\n",
        "        tc = ((3*self.rho*kB*c)/(4*mu*mH*sigmaT))**(1/3)\n",
        "\n",
        "        self.r_boundary = self.r[np.argmin(np.abs(self.Tc-tc))] #boundary between gas and rad pressire dominated region\n",
        "\n",
        "        return self.r_boundary,self.r\n",
        "\n",
        "\n",
        "    def tc_num(self,x):\n",
        "        '''\n",
        "        it works! outputs a single value for a single value of x as it should\n",
        "        '''\n",
        "\n",
        "        energy = self.energy(x)[1]\n",
        "\n",
        "        location = np.argmin(np.abs(x - self.r))\n",
        "\n",
        "        tc = ((3*np.multiply(energy,self.Tau[location])) / (4*sigmaT))**(1/4)\n",
        "\n",
        "        return tc,location\n",
        "\n",
        "    def get_tc_num(self):\n",
        "\n",
        "        '''\n",
        "        works\n",
        "        '''\n",
        "\n",
        "        energy = self.get_energy()\n",
        "\n",
        "        g = ((3*np.multiply(energy,self.Tau)) / (4*sigmaT))**(1/4)\n",
        "\n",
        "        #g = np.array([self.tc_num(i)[0] for i in self.r]) works\n",
        "\n",
        "        self.Tc = g\n",
        "\n",
        "        return self.Tc\n",
        "\n",
        "    def get_energy(self):\n",
        "        '''\n",
        "        works i checked\n",
        "        '''\n",
        "\n",
        "        self.get_sigma_num()\n",
        "\n",
        "        ee = 0.5*self.nu*self.sigma*(self.r*self.omegaprimes(self.r/self.rg)[0])**2\n",
        "        return ee\n",
        "\n",
        "\n",
        "        \n",
        "    def energy(self,x):\n",
        "      '''\n",
        "      energy available to radiate\n",
        "      works\n",
        "      '''\n",
        "      self.get_sigma_num()\n",
        "      #h = 1e-3\n",
        "      r = x*self.rg\n",
        "      sig = self.sigma[np.argmin(np.abs(self.r - r))]\n",
        "      #sig = np.array([self.numerical_middle_sigma(a=r[i],b=r[i]+h) for i in range (len(r))])\n",
        "      dr = 0.5*self.nu*sig*(r*self.omegaprimes(x)[0])**2\n",
        "      return 2*np.pi*r*dr,dr \n",
        "\n",
        "    def luminosity(self,g,h):\n",
        "      '''\n",
        "      integrate d(r)*2pi r from r1 to r2 times 2. Numerical Integration.\n",
        "      checked. gives a sensible output (dimensions make sense)\n",
        "      '''\n",
        "      from numpy import ones,copy,cos,tan,pi,linspace\n",
        "      N = 10\n",
        "      a = linspace(3,4*N-1,N)/(4*N+2)\n",
        "      x = cos(pi*a+1/(8*N*N*tan(a)))\n",
        "      # Find roots using Newton's method\n",
        "      epsilon = 1e-15\n",
        "      delta = 1.0\n",
        "      while delta>epsilon:\n",
        "          p0 = ones(N,float)\n",
        "          p1 = copy(x)\n",
        "          for k in range(1,N):\n",
        "              p0,p1 = p1,((2*k+1)*x*p1-k*p0)/(k+1)\n",
        "          dp = (N+1)*(p0-x*p1)/(1-x*x)\n",
        "          dx = p1/dp\n",
        "          x -= dx\n",
        "          delta = max(abs(dx))\n",
        "      # Calculate the weights\n",
        "      w = 2*(N+1)*(N+1)/(N*N*(1-x*x)*dp*dp)\n",
        "\n",
        "      #a = self.r_in\n",
        "\n",
        "      xkprime = 0.5*(h-g)*x + 0.5*(h+g)\n",
        "      wkprime = 0.5*(h-g)*w\n",
        "\n",
        "      #print(xkprime)\n",
        "\n",
        "      #jj = np.sum(wkprime*np.array([self.energy((xkprime[i]) for i in range(len(xkprime))[0])]))\n",
        "      jj = np.sum(wkprime*np.array([self.energy(xkprime[i])[0] for i in range (len(xkprime))]))\n",
        "      #jj = np.sum(wkprime*self.energy(xkprime))\n",
        "\n",
        "      return 2*jj\n",
        "\n",
        "\n",
        "\n",
        "        \n",
        "    def schwarz(self):\n",
        "        '''\n",
        "        give M in Msuns\n",
        "        out in cms\n",
        "        '''\n",
        "        return 2*G*(self.M)/(c**2)\n",
        "\n",
        "    def m_edd(self):\n",
        "        '''\n",
        "        give M in MSuns\n",
        "        out in g/s\n",
        "        '''\n",
        "        epsilon = 0.1\n",
        "        return (4*np.pi*G*(self.M)*mH)/(epsilon*c*sigmaT)\n",
        "\n",
        "\n",
        "    def sigma_ana(Mdot,r,r_star,nu):\n",
        "        '''\n",
        "        Mdot in msun/second\n",
        "        r in schwarz\n",
        "        r_star in schwarz\n",
        "        '''\n",
        "\n",
        "        return (Mdot*Msun/(3*np.pi*nu))*(1-(r_star/r)**0.5)"
      ]
    },
    {
      "cell_type": "code",
      "source": [
        "M, M_dot, nu, r_out, r_in=3"
      ],
      "metadata": {
        "id": "7361EQ5HI93Q",
        "colab": {
          "base_uri": "https://localhost:8080/",
          "height": 164
        },
        "outputId": "340817d7-dfeb-406f-cdec-325e1021801c"
      },
      "id": "7361EQ5HI93Q",
      "execution_count": null,
      "outputs": [
        {
          "output_type": "error",
          "ename": "TypeError",
          "evalue": "ignored",
          "traceback": [
            "\u001b[0;31m---------------------------------------------------------------------------\u001b[0m",
            "\u001b[0;31mTypeError\u001b[0m                                 Traceback (most recent call last)",
            "\u001b[0;32m<ipython-input-20-360e68159169>\u001b[0m in \u001b[0;36m<cell line: 1>\u001b[0;34m()\u001b[0m\n\u001b[0;32m----> 1\u001b[0;31m \u001b[0mM\u001b[0m\u001b[0;34m,\u001b[0m \u001b[0mM_dot\u001b[0m\u001b[0;34m,\u001b[0m \u001b[0mnu\u001b[0m\u001b[0;34m,\u001b[0m \u001b[0mr_out\u001b[0m\u001b[0;34m,\u001b[0m \u001b[0mr_in\u001b[0m\u001b[0;34m=\u001b[0m\u001b[0;36m3\u001b[0m\u001b[0;34m\u001b[0m\u001b[0;34m\u001b[0m\u001b[0m\n\u001b[0m",
            "\u001b[0;31mTypeError\u001b[0m: cannot unpack non-iterable int object"
          ]
        }
      ]
    },
    {
      "cell_type": "code",
      "source": [
        "r = np.linspace(3,10,100)\n",
        "ff = SS(10,m_edd(10),0.2,8,4)\n",
        "ff2 = SS(15,m_edd(15),0.2,8,4)\n",
        "ff3 = SS(20,m_edd(20),0.2,8,4)\n",
        "ff4 = SS(25,m_edd(25),0.2,8,4)\n",
        "ff5 = SS(30,m_edd(30),0.2,8,4)\n",
        "ff6 = SS(35,m_edd(35),0.2,8,4)\n",
        "ff7 = SS(40,m_edd(40),0.2,8,4)"
      ],
      "metadata": {
        "id": "Ye1Jm59I-hx_"
      },
      "id": "Ye1Jm59I-hx_",
      "execution_count": 4,
      "outputs": []
    },
    {
      "cell_type": "code",
      "source": [
        "ff.luminosity(3,1e6)"
      ],
      "metadata": {
        "id": "etOLZ9vp9H4e",
        "colab": {
          "base_uri": "https://localhost:8080/"
        },
        "outputId": "7bb39138-4cdb-4071-e956-61c66aec81b6"
      },
      "id": "etOLZ9vp9H4e",
      "execution_count": 5,
      "outputs": [
        {
          "output_type": "execute_result",
          "data": {
            "text/plain": [
              "2150162.5104794395"
            ]
          },
          "metadata": {},
          "execution_count": 5
        }
      ]
    },
    {
      "cell_type": "code",
      "source": [
        "r = np.linspace(3,8,100)\n",
        "lum = np.array([ff.luminosity(r[i],r[i+1]) for i in range(len(r)-1)])"
      ],
      "metadata": {
        "id": "T7TX3e3EGajE"
      },
      "id": "T7TX3e3EGajE",
      "execution_count": 7,
      "outputs": []
    },
    {
      "cell_type": "code",
      "source": [
        "import matplotlib.pyplot as plt\n",
        "\n",
        "plt.plot(r[0:99],lum, color='teal',label='Numerical Luminosity')\n",
        "plt.plot(r[0:99],lumana*2.5e5,color='red', label='Analytical Luminosity')\n",
        "plt.legend()\n",
        "plt.title(\"Disk Luminosity\")\n",
        "plt.xlabel('$\\mathrm{r/R_s(M)}$')\n",
        "plt.ylabel('Luminosity erg $\\mathrm{s^{-1}}$')\n",
        "\n",
        "plt.savefig(\"lumi.png\",dpi=300)\n",
        "files.download(\"lumi.png\") "
      ],
      "metadata": {
        "id": "TSCF4QMBJ_fq",
        "colab": {
          "base_uri": "https://localhost:8080/",
          "height": 475
        },
        "outputId": "e7c5a3a5-c533-4530-824f-de73743df1b3"
      },
      "id": "TSCF4QMBJ_fq",
      "execution_count": 16,
      "outputs": [
        {
          "output_type": "display_data",
          "data": {
            "text/plain": [
              "<IPython.core.display.Javascript object>"
            ],
            "application/javascript": [
              "\n",
              "    async function download(id, filename, size) {\n",
              "      if (!google.colab.kernel.accessAllowed) {\n",
              "        return;\n",
              "      }\n",
              "      const div = document.createElement('div');\n",
              "      const label = document.createElement('label');\n",
              "      label.textContent = `Downloading \"${filename}\": `;\n",
              "      div.appendChild(label);\n",
              "      const progress = document.createElement('progress');\n",
              "      progress.max = size;\n",
              "      div.appendChild(progress);\n",
              "      document.body.appendChild(div);\n",
              "\n",
              "      const buffers = [];\n",
              "      let downloaded = 0;\n",
              "\n",
              "      const channel = await google.colab.kernel.comms.open(id);\n",
              "      // Send a message to notify the kernel that we're ready.\n",
              "      channel.send({})\n",
              "\n",
              "      for await (const message of channel.messages) {\n",
              "        // Send a message to notify the kernel that we're ready.\n",
              "        channel.send({})\n",
              "        if (message.buffers) {\n",
              "          for (const buffer of message.buffers) {\n",
              "            buffers.push(buffer);\n",
              "            downloaded += buffer.byteLength;\n",
              "            progress.value = downloaded;\n",
              "          }\n",
              "        }\n",
              "      }\n",
              "      const blob = new Blob(buffers, {type: 'application/binary'});\n",
              "      const a = document.createElement('a');\n",
              "      a.href = window.URL.createObjectURL(blob);\n",
              "      a.download = filename;\n",
              "      div.appendChild(a);\n",
              "      a.click();\n",
              "      div.remove();\n",
              "    }\n",
              "  "
            ]
          },
          "metadata": {}
        },
        {
          "output_type": "display_data",
          "data": {
            "text/plain": [
              "<IPython.core.display.Javascript object>"
            ],
            "application/javascript": [
              "download(\"download_d07f61f5-dcd4-49a3-ace7-9a460d22f928\", \"lumi.png\", 110836)"
            ]
          },
          "metadata": {}
        },
        {
          "output_type": "display_data",
          "data": {
            "text/plain": [
              "<Figure size 640x480 with 1 Axes>"
            ],
            "image/png": "[encoded data removed]"
          },
          "metadata": {}
        }
      ]
    },
    {
      "cell_type": "code",
      "source": [
        "ratio = lum[98] / lumana[98]\n",
        "ratio"
      ],
      "metadata": {
        "id": "9Yvwv9xkKlHI"
      },
      "id": "9Yvwv9xkKlHI",
      "execution_count": null,
      "outputs": []
    },
    {
      "cell_type": "code",
      "source": [
        "schwarz(10)"
      ],
      "metadata": {
        "id": "Ac1SkSfeNA8N"
      },
      "id": "Ac1SkSfeNA8N",
      "execution_count": null,
      "outputs": []
    },
    {
      "cell_type": "code",
      "source": [
        "a = 3*schwarz(10)\n",
        "schwarz(10)/(a)"
      ],
      "metadata": {
        "id": "GWqAfid4NUSz"
      },
      "id": "GWqAfid4NUSz",
      "execution_count": null,
      "outputs": []
    },
    {
      "cell_type": "code",
      "source": [
        "def l_ana(a,b,m):\n",
        "  ra = a*schwarz(m)\n",
        "  rb = b*schwarz(m)\n",
        "  mdot = m_edd(m)\n",
        "\n",
        "  lum = (3*G*m*Msun*mdot/2) * (1/ra*(1-(2/3)*((1/a)**0.5)) - 1/rb*(1-(2/3)*((1/b)**0.5)))\n",
        "  return lum"
      ],
      "metadata": {
        "id": "BpSQV3WoIPXn"
      },
      "id": "BpSQV3WoIPXn",
      "execution_count": 10,
      "outputs": []
    },
    {
      "cell_type": "code",
      "source": [
        "lumana = np.array([l_ana(r[i],r[i+1],10) for i in range(len(r)-1)])"
      ],
      "metadata": {
        "id": "k1_G57INI2E6"
      },
      "id": "k1_G57INI2E6",
      "execution_count": 11,
      "outputs": []
    },
    {
      "cell_type": "code",
      "source": [
        "m_edd(10)\n"
      ],
      "metadata": {
        "id": "5RCcz2J0IB4R"
      },
      "id": "5RCcz2J0IB4R",
      "execution_count": null,
      "outputs": []
    },
    {
      "cell_type": "code",
      "source": [
        "masses = [10,15,20,25,30,35,40]\n",
        "lum = [ff.luminosity(4,8),ff2.luminosity(4,8),ff3.luminosity(4,8),ff4.luminosity(4,8),ff5.luminosity(4,8),ff6.luminosity(4,8),ff7.luminosity(4,8)]\n",
        "plt.scatter(masses,lum)\n",
        "plt.plot(masses,lum)"
      ],
      "metadata": {
        "id": "PP3QVnXjDT7V"
      },
      "id": "PP3QVnXjDT7V",
      "execution_count": null,
      "outputs": []
    },
    {
      "cell_type": "code",
      "source": [
        "ff.luminosity(3,1e7)"
      ],
      "metadata": {
        "id": "39FMxx1WFckr"
      },
      "id": "39FMxx1WFckr",
      "execution_count": null,
      "outputs": []
    },
    {
      "cell_type": "code",
      "source": [
        "(4*np.pi*G*10*Msun*c*mH)/(sigmaT)"
      ],
      "metadata": {
        "id": "pChOEEduFOUv"
      },
      "id": "pChOEEduFOUv",
      "execution_count": null,
      "outputs": []
    },
    {
      "cell_type": "code",
      "source": [
        "from google.colab import files\n",
        "#plt.savefig(\"abc.png\")\n"
      ],
      "metadata": {
        "id": "wSXGx8Bz8If3"
      },
      "id": "wSXGx8Bz8If3",
      "execution_count": 13,
      "outputs": []
    },
    {
      "cell_type": "code",
      "source": [
        "plt.plot(ff.r/ff.rg,ff.analytical_middle(0.2)[0],label='$\\mathrm{10 M_{\\odot}}$')\n",
        "plt.plot(ff2.r/ff2.rg,ff2.analytical_middle(0.2)[0],label='$\\mathrm{15 M_{\\odot}}$')\n",
        "plt.plot(ff3.r/ff3.rg,ff3.analytical_middle(0.2)[0],label='$\\mathrm{20 M_{\\odot}}$')\n",
        "plt.plot(ff4.r/ff4.rg,ff4.analytical_middle(0.2)[0],label='$\\mathrm{25 M_{\\odot}}$')\n",
        "plt.xlabel('$\\mathrm{r/R_s(M)}$')\n",
        "plt.ylabel('$\\mathrm{\\Sigma(g/cm^2)}$')\n",
        "plt.title(\"Analytical Surface Density\")\n",
        "plt.legend()\n",
        "plt.savefig(\"fig1_ana.png\",dpi=300)\n",
        "files.download(\"fig1_ana.png\") "
      ],
      "metadata": {
        "id": "2ce0ybIz4UTc"
      },
      "id": "2ce0ybIz4UTc",
      "execution_count": null,
      "outputs": []
    },
    {
      "cell_type": "code",
      "source": [
        "3.0e10/0.00040 == 7.5e13"
      ],
      "metadata": {
        "id": "_0h_v8-h456V"
      },
      "id": "_0h_v8-h456V",
      "execution_count": null,
      "outputs": []
    },
    {
      "cell_type": "code",
      "source": [
        "plt.plot(ff.r/ff.rg,ff.get_sigma_num()[0]*7.5e13,label='$\\mathrm{10 M_{\\odot}}$')\n",
        "plt.plot(ff2.r/ff2.rg,ff2.get_sigma_num()[0]*7.5e13,label='$\\mathrm{15 M_{\\odot}}$')\n",
        "plt.plot(ff3.r/ff3.rg,ff3.get_sigma_num()[0]*7.5e13,label='$\\mathrm{20 M_{\\odot}}$')\n",
        "plt.plot(ff4.r/ff4.rg,ff4.get_sigma_num()[0]*7.5e13,label='$\\mathrm{25 M_{\\odot}}$')\n",
        "plt.xlabel('$\\mathrm{r/R_s(M)}$')\n",
        "plt.ylabel('$\\mathrm{\\Sigma(g/cm^2)}$')\n",
        "plt.title(\"Numerical Surface Density\")\n",
        "plt.legend()\n",
        "plt.savefig(\"fig1_num.png\",dpi=300)\n",
        "files.download(\"fig1_num.png\") "
      ],
      "metadata": {
        "id": "_rgYY3Y21Ipj"
      },
      "id": "_rgYY3Y21Ipj",
      "execution_count": null,
      "outputs": []
    },
    {
      "cell_type": "code",
      "source": [
        "#gas pressure\n",
        "#pgas = (self.rho*kB*self.Tc)/mH\n",
        "\n",
        "#radiation pressure\n",
        "#prad = (4*sigmaT*(self.Tc)**4)/(3*c)\n",
        "plt.plot(ff.r/ff.rg,)\n",
        "\n",
        "g*cm/s^2 / cm^2"
      ],
      "metadata": {
        "id": "C0CfKDouCSoG"
      },
      "id": "C0CfKDouCSoG",
      "execution_count": null,
      "outputs": []
    },
    {
      "cell_type": "code",
      "source": [
        "# ff.r/ff.rg"
      ],
      "metadata": {
        "id": "h2oLfR4BJyNv"
      },
      "id": "h2oLfR4BJyNv",
      "execution_count": null,
      "outputs": []
    },
    {
      "cell_type": "code",
      "source": [
        "plt.plot(ff.r/ff.rg,4*sigmaT*ff.get_tc_num()**4/(3*c)*1e16,color='red',label=\"Radiation Pressure\")\n",
        "plt.plot(ff.r/ff.rg,kB*ff.get_rho_num()*ff.get_tc_num()/(mu*mH),color='teal',label=\"Gas Pressure\")\n",
        "boundary = ff.r[np.argmin(np.abs(4*sigmaT*ff.get_tc_num()**4/(3*c)*1e16 - kB*ff.get_rho_num()*ff.get_tc_num()/(mu*mH)))]/ff.rg\n",
        "boundary_15 = ff2.r[np.argmin(np.abs(4*sigmaT*ff2.get_tc_num()**4/(3*c)*1e16 - kB*ff2.get_rho_num()*ff2.get_tc_num()/(mu*mH)))]/ff2.rg\n",
        "boundary_20 = ff3.r[np.argmin(np.abs(4*sigmaT*ff3.get_tc_num()**4/(3*c)*1e16 - kB*ff3.get_rho_num()*ff3.get_tc_num()/(mu*mH)))]/ff3.rg\n",
        "boundary_25 = ff4.r[np.argmin(np.abs(4*sigmaT*ff4.get_tc_num()**4/(3*c)*1e16 - kB*ff4.get_rho_num()*ff4.get_tc_num()/(mu*mH)))]/ff4.rg\n",
        "boundary_30 = ff5.r[np.argmin(np.abs(4*sigmaT*ff5.get_tc_num()**4/(3*c)*1e16 - kB*ff5.get_rho_num()*ff5.get_tc_num()/(mu*mH)))]/ff5.rg\n",
        "boundary_35 = ff6.r[np.argmin(np.abs(4*sigmaT*ff6.get_tc_num()**4/(3*c)*1e16 - kB*ff6.get_rho_num()*ff6.get_tc_num()/(mu*mH)))]/ff6.rg\n",
        "boundary_40 = ff7.r[np.argmin(np.abs(4*sigmaT*ff7.get_tc_num()**4/(3*c)*1e16 - kB*ff7.get_rho_num()*ff7.get_tc_num()/(mu*mH)))]/ff7.rg\n",
        "\n",
        "\n",
        "plt.scatter(boundary,(4*sigmaT*ff.get_tc_num()**4/(3*c))[np.argmin(np.abs(4*sigmaT*ff.get_tc_num()**4/(3*c)*1e16 - kB*ff.get_rho_num()*ff.get_tc_num()/(mu*mH)))]*1e16, color = 'k', s = 10*2)\n",
        "plt.scatter(boundary_15,(4*sigmaT*ff2.get_tc_num()**4/(3*c))[np.argmin(np.abs(4*sigmaT*ff2.get_tc_num()**4/(3*c)*1e16 - kB*ff2.get_rho_num()*ff2.get_tc_num()/(mu*mH)))]*1e16, color = 'k', s = 15*2)\n",
        "plt.scatter(boundary_20,(4*sigmaT*ff3.get_tc_num()**4/(3*c))[np.argmin(np.abs(4*sigmaT*ff3.get_tc_num()**4/(3*c)*1e16 - kB*ff3.get_rho_num()*ff3.get_tc_num()/(mu*mH)))]*1e16, color = 'k', s = 20*2)\n",
        "plt.scatter(boundary_25,(4*sigmaT*ff4.get_tc_num()**4/(3*c))[np.argmin(np.abs(4*sigmaT*ff4.get_tc_num()**4/(3*c)*1e16 - kB*ff4.get_rho_num()*ff4.get_tc_num()/(mu*mH)))]*1e16, color = 'k', s = 25*2)\n",
        "plt.scatter(boundary_30,(4*sigmaT*ff5.get_tc_num()**4/(3*c))[np.argmin(np.abs(4*sigmaT*ff5.get_tc_num()**4/(3*c)*1e16 - kB*ff5.get_rho_num()*ff5.get_tc_num()/(mu*mH)))]*1e16, color = 'k', s = 30*2)\n",
        "plt.scatter(boundary_35,(4*sigmaT*ff6.get_tc_num()**4/(3*c))[np.argmin(np.abs(4*sigmaT*ff6.get_tc_num()**4/(3*c)*1e16 - kB*ff6.get_rho_num()*ff6.get_tc_num()/(mu*mH)))]*1e16, color = 'k', s = 35*2)\n",
        "plt.scatter(boundary_40,(4*sigmaT*ff7.get_tc_num()**4/(3*c))[np.argmin(np.abs(4*sigmaT*ff7.get_tc_num()**4/(3*c)*1e16 - kB*ff7.get_rho_num()*ff7.get_tc_num()/(mu*mH)))]*1e16, color = 'k', s = 40*2)\n",
        "\n",
        "\n",
        "variation = np.array([(4*sigmaT*ff.get_tc_num()**4/(3*c))[np.argmin(np.abs(4*sigmaT*ff.get_tc_num()**4/(3*c)*1e16 - kB*ff.get_rho_num()*ff.get_tc_num()/(mu*mH)))]*1e16,\n",
        "                      (4*sigmaT*ff2.get_tc_num()**4/(3*c))[np.argmin(np.abs(4*sigmaT*ff2.get_tc_num()**4/(3*c)*1e16 - kB*ff2.get_rho_num()*ff2.get_tc_num()/(mu*mH)))]*1e16,\n",
        "                      (4*sigmaT*ff3.get_tc_num()**4/(3*c))[np.argmin(np.abs(4*sigmaT*ff3.get_tc_num()**4/(3*c)*1e16 - kB*ff3.get_rho_num()*ff3.get_tc_num()/(mu*mH)))]*1e16,\n",
        "                      (4*sigmaT*ff4.get_tc_num()**4/(3*c))[np.argmin(np.abs(4*sigmaT*ff4.get_tc_num()**4/(3*c)*1e16 - kB*ff4.get_rho_num()*ff4.get_tc_num()/(mu*mH)))]*1e16,\n",
        "                       (4*sigmaT*ff5.get_tc_num()**4/(3*c))[np.argmin(np.abs(4*sigmaT*ff5.get_tc_num()**4/(3*c)*1e16 - kB*ff5.get_rho_num()*ff5.get_tc_num()/(mu*mH)))]*1e16,\n",
        "                      (4*sigmaT*ff6.get_tc_num()**4/(3*c))[np.argmin(np.abs(4*sigmaT*ff6.get_tc_num()**4/(3*c)*1e16 - kB*ff6.get_rho_num()*ff6.get_tc_num()/(mu*mH)))]*1e16,\n",
        "                      (4*sigmaT*ff7.get_tc_num()**4/(3*c))[np.argmin(np.abs(4*sigmaT*ff7.get_tc_num()**4/(3*c)*1e16 - kB*ff7.get_rho_num()*ff7.get_tc_num()/(mu*mH)))]*1e16])\n",
        "\n",
        "\n",
        "\n",
        "plt.axvline(boundary, linestyle = '--')\n",
        "\n",
        "plt.ylabel('$\\mathrm{Pressure(g cm^{-1} s^{-2})}$')\n",
        "plt.xlabel('$\\mathrm{r/R_s(M)}$')\n",
        "#plt.fill_between(np.array(ff.r/ff.rg),0,1)\n",
        "plt.fill_betweenx([0, 6000], 4, boundary, color='red', alpha=0.2)\n",
        "plt.fill_betweenx([0, 6000], boundary, 8, color='teal', alpha=0.2)\n",
        "plt.text(boundary + 0.05, 2900, \"Dividing Line\",rotation = 90)\n",
        "plt.scatter(boundary,(4*sigmaT*ff.get_tc_num()**4/(3*c))[np.argmin(np.abs(4*sigmaT*ff.get_tc_num()**4/(3*c)*1e16 - kB*ff.get_rho_num()*ff.get_tc_num()/(mu*mH)))]*1e16, color = 'k', s = 10)\n",
        "plt.plot([boundary,boundary_15,boundary_20,boundary_25,boundary_30,boundary_35,boundary_40], variation, linestyle = '--', label = \"$\\mathrm{R_{boundary}}$ vs $\\mathrm{P_{boundary}}$ for linearly scaled BH Mass\")\n",
        "plt.text(6.0,3000, \"Gas Pressure Dominated\")\n",
        "plt.text(4.3,500, \"Radiation Pressure Dominated\", rotation = 90, fontsize = 10)\n",
        "plt.xlim(4,8)\n",
        "plt.ylim(0,6000)\n",
        "plt.legend(fontsize = 8, loc= \"upper center\")\n",
        "plt.title(\"Numerical Pressure for M = $10 M_{\\odot}$\")\n",
        "plt.savefig(\"fig2_num.png\",dpi=300)\n",
        "files.download(\"fig2_num.png\") \n",
        "#plt.plot(ff2.r/ff2.rg,ff2.get_tc_num()**4,color='red')"
      ],
      "metadata": {
        "id": "-_zctbWS1CCx"
      },
      "id": "-_zctbWS1CCx",
      "execution_count": null,
      "outputs": []
    },
    {
      "cell_type": "code",
      "source": [
        "boundary_15"
      ],
      "metadata": {
        "id": "BvT0TmfXKelC"
      },
      "id": "BvT0TmfXKelC",
      "execution_count": null,
      "outputs": []
    },
    {
      "cell_type": "code",
      "source": [
        "(4*sigmaT*ff2.get_tc_num()**4/(3*c))[np.argmin(np.abs(4*sigmaT*ff2.get_tc_num()**4/(3*c)*1e16 - kB*ff2.get_rho_num()*ff2.get_tc_num()/(mu*mH)))]*1e16"
      ],
      "metadata": {
        "id": "6OZSi925bR0S"
      },
      "id": "6OZSi925bR0S",
      "execution_count": null,
      "outputs": []
    },
    {
      "cell_type": "code",
      "source": [
        "# ((3*ff.get_rho_num()*kB*c)/(4*mu*mH*sigmaT))**(1/3)"
      ],
      "metadata": {
        "id": "970jxvYhzEct"
      },
      "id": "970jxvYhzEct",
      "execution_count": null,
      "outputs": []
    },
    {
      "cell_type": "code",
      "source": [
        "# ff.get_tc_num()"
      ],
      "metadata": {
        "id": "PIg8GgHEwtTp"
      },
      "id": "PIg8GgHEwtTp",
      "execution_count": null,
      "outputs": []
    },
    {
      "cell_type": "code",
      "source": [
        "((3*ff.rho*kB*c)/(4*mu*mH*sigmaT))**(1/3)"
      ],
      "metadata": {
        "id": "ThhUBTXpwfIy"
      },
      "id": "ThhUBTXpwfIy",
      "execution_count": null,
      "outputs": []
    },
    {
      "cell_type": "code",
      "source": [
        "ff.luminosity(4,5)"
      ],
      "metadata": {
        "id": "I-6VCGKOuHF9"
      },
      "id": "I-6VCGKOuHF9",
      "execution_count": null,
      "outputs": []
    },
    {
      "cell_type": "code",
      "source": [
        "ff.luminosity(4,5)"
      ],
      "metadata": {
        "id": "q2AtvnrSuWtD"
      },
      "id": "q2AtvnrSuWtD",
      "execution_count": null,
      "outputs": []
    },
    {
      "cell_type": "code",
      "source": [
        "23630433.144573964/ff.rg"
      ],
      "metadata": {
        "id": "JuxYn9eRvX57"
      },
      "id": "JuxYn9eRvX57",
      "execution_count": null,
      "outputs": []
    },
    {
      "cell_type": "code",
      "source": [
        "ff.get_bdry()[0]/ff.rg"
      ],
      "metadata": {
        "id": "pTH89X84u3_f"
      },
      "id": "pTH89X84u3_f",
      "execution_count": null,
      "outputs": []
    },
    {
      "cell_type": "code",
      "source": [
        "a,b = ff.get_energy()"
      ],
      "metadata": {
        "id": "1evWkhWlJZF0"
      },
      "id": "1evWkhWlJZF0",
      "execution_count": null,
      "outputs": []
    },
    {
      "cell_type": "code",
      "source": [
        "ff.tc_num(4*ff.rg)"
      ],
      "metadata": {
        "id": "KjlApYe8s6zA"
      },
      "id": "KjlApYe8s6zA",
      "execution_count": null,
      "outputs": []
    },
    {
      "cell_type": "code",
      "source": [],
      "metadata": {
        "id": "iLGpCGw-tBZo"
      },
      "id": "iLGpCGw-tBZo",
      "execution_count": null,
      "outputs": []
    },
    {
      "cell_type": "code",
      "source": [
        "ff.get_tc_num()[0]"
      ],
      "metadata": {
        "id": "0CV34-l4O9so"
      },
      "id": "0CV34-l4O9so",
      "execution_count": null,
      "outputs": []
    },
    {
      "cell_type": "code",
      "source": [
        "ff.tc_num(6)"
      ],
      "metadata": {
        "id": "nQALQLT6NfuA"
      },
      "id": "nQALQLT6NfuA",
      "execution_count": null,
      "outputs": []
    },
    {
      "cell_type": "code",
      "source": [
        "v,dr,sig,r,rarray = ff.energy(8)"
      ],
      "metadata": {
        "id": "UBun4OM2F0U-"
      },
      "id": "UBun4OM2F0U-",
      "execution_count": null,
      "outputs": []
    },
    {
      "cell_type": "code",
      "source": [],
      "metadata": {
        "id": "tV3EYUc_KI-O"
      },
      "id": "tV3EYUc_KI-O",
      "execution_count": null,
      "outputs": []
    },
    {
      "cell_type": "code",
      "source": [
        "vall = 5\n",
        "sigma = sig[np.argmin(np.abs(ff.r / ff.rg - 5))]"
      ],
      "metadata": {
        "id": "-InRx8E-G1jM"
      },
      "id": "-InRx8E-G1jM",
      "execution_count": null,
      "outputs": []
    },
    {
      "cell_type": "code",
      "source": [
        "np.argmin(np.abs(ff.r / ff.rg - 5))"
      ],
      "metadata": {
        "id": "8Xg6hi9UGtbt"
      },
      "id": "8Xg6hi9UGtbt",
      "execution_count": null,
      "outputs": []
    },
    {
      "cell_type": "code",
      "source": [
        "plt.plot(np.linspace(4,4.001,1000),ff.testing())"
      ],
      "metadata": {
        "id": "FJsxIDKqd68d"
      },
      "id": "FJsxIDKqd68d",
      "execution_count": null,
      "outputs": []
    },
    {
      "cell_type": "code",
      "source": [
        "energy = ff.get_energy()\n",
        "energy"
      ],
      "metadata": {
        "id": "rj3BcnkSZhqE"
      },
      "id": "rj3BcnkSZhqE",
      "execution_count": null,
      "outputs": []
    },
    {
      "cell_type": "code",
      "source": [
        "energy[1]"
      ],
      "metadata": {
        "id": "4dHkneecbdGJ"
      },
      "id": "4dHkneecbdGJ",
      "execution_count": null,
      "outputs": []
    },
    {
      "cell_type": "code",
      "source": [
        "# ff.get_sigma_num()[1] < 5907608.286143491"
      ],
      "metadata": {
        "id": "QltMWf-2U9_B"
      },
      "id": "QltMWf-2U9_B",
      "execution_count": null,
      "outputs": []
    },
    {
      "cell_type": "code",
      "source": [
        "ff.get_bdry()[0]/schwarz(10)"
      ],
      "metadata": {
        "id": "FiwZFfsrT7Sk"
      },
      "id": "FiwZFfsrT7Sk",
      "execution_count": null,
      "outputs": []
    },
    {
      "cell_type": "code",
      "source": [
        "tau = ff.get_sigma_num()"
      ],
      "metadata": {
        "id": "vf3FdAhLYmtZ"
      },
      "id": "vf3FdAhLYmtZ",
      "execution_count": null,
      "outputs": []
    },
    {
      "cell_type": "code",
      "source": [
        "ff.tc_num()"
      ],
      "metadata": {
        "id": "W4AE2biIZIXz"
      },
      "id": "W4AE2biIZIXz",
      "execution_count": null,
      "outputs": []
    },
    {
      "cell_type": "code",
      "source": [
        "tc = ff.get_tc_num()\n",
        "tc"
      ],
      "metadata": {
        "id": "4jmbesa6XJCu"
      },
      "id": "4jmbesa6XJCu",
      "execution_count": null,
      "outputs": []
    },
    {
      "cell_type": "code",
      "source": [
        "np.shape(tc)"
      ],
      "metadata": {
        "id": "hXvd57H9XZDu"
      },
      "id": "hXvd57H9XZDu",
      "execution_count": null,
      "outputs": []
    },
    {
      "cell_type": "code",
      "source": [
        "bdry,fff=ff.get_bdry()"
      ],
      "metadata": {
        "id": "geH2H2ftV2R9"
      },
      "id": "geH2H2ftV2R9",
      "execution_count": null,
      "outputs": []
    },
    {
      "cell_type": "code",
      "source": [
        "bdry/schwarz(10)"
      ],
      "metadata": {
        "id": "QB7xXzaXW01a"
      },
      "id": "QB7xXzaXW01a",
      "execution_count": null,
      "outputs": []
    },
    {
      "cell_type": "code",
      "source": [
        "fff / schwarz(10)"
      ],
      "metadata": {
        "id": "tKTjTeoWWlZw"
      },
      "id": "tKTjTeoWWlZw",
      "execution_count": null,
      "outputs": []
    },
    {
      "cell_type": "code",
      "source": [
        "\n",
        "\n",
        "jj = []\n",
        "rr = np.arange(4,10,1)\n",
        "light = np.array([ff.luminosity(3,i) for i in rr])\n",
        "plt.plot(rr,light)\n",
        "plt.xlabel(r\"${R}/{R_{Schwarz}(M)}$\")\n",
        "plt.ylabel(\"Luminosity\")"
      ],
      "metadata": {
        "id": "W-5GvJGKINAP"
      },
      "id": "W-5GvJGKINAP",
      "execution_count": null,
      "outputs": []
    },
    {
      "cell_type": "markdown",
      "source": [
        "PLOT 2 - luminosity - as you get further away, the luminosity increases - it's cummulative luminosity "
      ],
      "metadata": {
        "id": "855E3y_DlIZe"
      },
      "id": "855E3y_DlIZe"
    },
    {
      "cell_type": "code",
      "source": [
        "np.argmin([2,1,3])"
      ],
      "metadata": {
        "id": "UkjjvSGiStni"
      },
      "id": "UkjjvSGiStni",
      "execution_count": null,
      "outputs": []
    },
    {
      "cell_type": "code",
      "source": [
        "ff.energy(3)"
      ],
      "metadata": {
        "id": "Uww1kK4eJNT1"
      },
      "id": "Uww1kK4eJNT1",
      "execution_count": null,
      "outputs": []
    },
    {
      "cell_type": "code",
      "source": [
        "jj = []\n",
        "rr = np.arange(4,10,1)\n",
        "light = np.array([ff.energy(i) for i in rr])\n",
        "plt.plot(rr,light)\n",
        "plt.xlabel(r\"${R}/{R_{Schwarz}(M)}$\")\n",
        "plt.ylabel(\"Luminosity\")"
      ],
      "metadata": {
        "id": "6NwbJk8FJG2y"
      },
      "id": "6NwbJk8FJG2y",
      "execution_count": null,
      "outputs": []
    },
    {
      "cell_type": "code",
      "source": [
        "#ff.energy(3)\n",
        "#ff.energy(np.array([1,2,3]))\n",
        "ff.luminosity(3,4)"
      ],
      "metadata": {
        "id": "ZgLaBNsOE0dv"
      },
      "id": "ZgLaBNsOE0dv",
      "execution_count": null,
      "outputs": []
    },
    {
      "cell_type": "code",
      "source": [
        "ff.numerical_middle_sigma(7,8)"
      ],
      "metadata": {
        "id": "G9-QuUJnGFYJ"
      },
      "id": "G9-QuUJnGFYJ",
      "execution_count": null,
      "outputs": []
    },
    {
      "cell_type": "code",
      "source": [
        "ff.luminosity(3,4)"
      ],
      "metadata": {
        "id": "1ONVcHZtMrRu"
      },
      "id": "1ONVcHZtMrRu",
      "execution_count": null,
      "outputs": []
    },
    {
      "cell_type": "code",
      "source": [
        "G*10*Msun*m_edd(10) / 2*schwarz(10)"
      ],
      "metadata": {
        "id": "MGH0u7iwLrtJ"
      },
      "id": "MGH0u7iwLrtJ",
      "execution_count": null,
      "outputs": []
    },
    {
      "cell_type": "code",
      "source": [
        "a,b,c = ff.energy(3)"
      ],
      "metadata": {
        "id": "lZzhwFtLIj_K"
      },
      "id": "lZzhwFtLIj_K",
      "execution_count": null,
      "outputs": []
    },
    {
      "cell_type": "code",
      "source": [
        "b"
      ],
      "metadata": {
        "id": "guCOJXLS-oFn"
      },
      "id": "guCOJXLS-oFn",
      "execution_count": null,
      "outputs": []
    },
    {
      "cell_type": "code",
      "source": [
        "c"
      ],
      "metadata": {
        "id": "v04-PsP3-pVJ"
      },
      "id": "v04-PsP3-pVJ",
      "execution_count": null,
      "outputs": []
    },
    {
      "cell_type": "code",
      "source": [
        "a"
      ],
      "metadata": {
        "id": "ue4bnU8A-v-w"
      },
      "id": "ue4bnU8A-v-w",
      "execution_count": null,
      "outputs": []
    },
    {
      "cell_type": "code",
      "source": [
        "ff.omegaprimes(3)"
      ],
      "metadata": {
        "id": "MoaoNaZFI_xD"
      },
      "id": "MoaoNaZFI_xD",
      "execution_count": null,
      "outputs": []
    },
    {
      "cell_type": "markdown",
      "id": "905633a1",
      "metadata": {
        "id": "905633a1"
      },
      "source": [
        "# Can one of you program in the different regions of the disc?"
      ]
    },
    {
      "cell_type": "markdown",
      "id": "f6f0997c",
      "metadata": {
        "id": "f6f0997c"
      },
      "source": [
        "So in the class above, just program in the different regions of the disc. What this means firstly is the following:\n",
        "1) First as a check, add a condition that if ANY of the '$r_{out}$' we are inputting is less than $3*R_g$ where $R_g$ is the Schwarzschild radius, just do calculations by assuming that all values at those 'r' is ZERO. Probably add this in the ${__init__}$ in the class above.\n",
        "\n",
        "2) Secondly, we need to define different regions of the disc. The inner, middle and outer regions. Again, as a first step, just add a condition that '$r_{out}$' between 3 and 5 is inner disc, so that the pressure is ${self.P = gas_p}$ and $\\Kappa$ is the electron scattering thing (check notes and https://personal.sron.nl/~kaastra/leiden2017/lnotes_part7.pdf for proper values). Between r 5 and 8 is middle, and beyond 8 is outer. Just do this for now, we will worry about being accurate later.\n"
      ]
    },
    {
      "cell_type": "markdown",
      "source": [
        "Things to get finished today (Tuesday) in total:\n",
        "1) Add the radiation formula or whatever so we can start plotting stuff out. This will take a while to do because the energy loss is another part of the notes, there is an integration there, and another thing is energy is divided into motion and radiation. ~ Shobhit\n",
        "2) Need to add the RK4 method to the class and test that it works and shit isn't breaking"
      ],
      "metadata": {
        "id": "gcScR_NekyKv"
      },
      "id": "gcScR_NekyKv"
    },
    {
      "cell_type": "code",
      "source": [
        "#testing if dr is a smooth function or not; will use an appropriate integration method based on that\n",
        "\n",
        "import numpy as np\n",
        "import matplotlib.pyplot as plt\n",
        "def fg(R):\n",
        "  G = 1\n",
        "  m = 1\n",
        "  mdot = 1\n",
        "\n",
        "  ds = (3*G*m*mdot)/(8*np.pi*R**3) * (1 - (1/R)**0.5)\n",
        "  return ds\n",
        "\n",
        "r = np.linspace(4,20,1000)\n",
        "dd = fg(r)\n",
        "plt.plot(r,dd)"
      ],
      "metadata": {
        "id": "-06KUPIrsSuz"
      },
      "id": "-06KUPIrsSuz",
      "execution_count": null,
      "outputs": []
    },
    {
      "cell_type": "code",
      "execution_count": null,
      "id": "e4e8abce",
      "metadata": {
        "id": "e4e8abce"
      },
      "outputs": [],
      "source": [
        "def q(m,mdot,r):\n",
        "    rstar = 3\n",
        "    tt = 3*(1-(rstar/r**0.5)) / (8*np.pi*r**3)\n",
        "    return tt"
      ]
    },
    {
      "cell_type": "code",
      "execution_count": null,
      "id": "a82108aa",
      "metadata": {
        "id": "a82108aa"
      },
      "outputs": [],
      "source": [
        "rr = np.linspace(1,100,1000)\n",
        "y = q(10,m_edd(10),rr)\n",
        "plt.plot(rr,y)"
      ]
    },
    {
      "cell_type": "code",
      "execution_count": null,
      "id": "8f678b83",
      "metadata": {
        "id": "8f678b83"
      },
      "outputs": [],
      "source": [
        "import numpy\n",
        "M, M_dot, nu, r_out, r_in=3"
      ]
    },
    {
      "cell_type": "code",
      "source": [],
      "metadata": {
        "id": "Ihkl1d3Q9v62"
      },
      "id": "Ihkl1d3Q9v62",
      "execution_count": null,
      "outputs": []
    },
    {
      "cell_type": "code",
      "execution_count": null,
      "id": "4c0567ce",
      "metadata": {
        "id": "4c0567ce"
      },
      "outputs": [],
      "source": [
        "x = np.linspace(3,8,1000)\n",
        "y = np.linspace(3,8,1000)\n",
        "\n",
        "xu,yu = np.meshgrid(x,y)\n",
        "r = np.sqrt(xu**2 + yu**2)\n",
        "\n",
        "r"
      ]
    },
    {
      "cell_type": "code",
      "source": [
        "len(s)"
      ],
      "metadata": {
        "id": "1xaEAyQ9NPlY"
      },
      "id": "1xaEAyQ9NPlY",
      "execution_count": null,
      "outputs": []
    },
    {
      "cell_type": "code",
      "execution_count": null,
      "id": "17cce382",
      "metadata": {
        "id": "17cce382"
      },
      "outputs": [],
      "source": [
        "s,r,_=ff.get_sigma_num()\n",
        "s2,r2,_=ff2.get_sigma_num()\n",
        "s3,r3,_=ff3.get_sigma_num()"
      ]
    },
    {
      "cell_type": "code",
      "source": [],
      "metadata": {
        "id": "SzWoLB8uJeNp"
      },
      "id": "SzWoLB8uJeNp",
      "execution_count": null,
      "outputs": []
    },
    {
      "cell_type": "markdown",
      "source": [
        "PLOT 1 = SURFACE DENSITY AS A FUNCTION OF SWARTZCHILD RADIUS - VARYING FOR DIFFERENT BLACK HOLE MASSES, SAME PLOT FOR DIFFERENT VARIABLES (3/4 PLOTS)\n"
      ],
      "metadata": {
        "id": "bokVW7coijJh"
      },
      "id": "bokVW7coijJh"
    },
    {
      "cell_type": "code",
      "execution_count": null,
      "id": "244f27a4",
      "metadata": {
        "id": "244f27a4"
      },
      "outputs": [],
      "source": [
        "plt.plot(r/schwarz(10),s,label=\"10 Solar Mass\")\n",
        "plt.plot(r2/schwarz(20),s2,label=\"20 Solar Mass\")\n",
        "plt.plot(r3/schwarz(30),s3,label=\"30 Solar Mass\")\n",
        "plt.legend()"
      ]
    },
    {
      "cell_type": "code",
      "source": [
        "sigma,Tc,H,rho,tau,vr = ff.analytical_middle()"
      ],
      "metadata": {
        "id": "nQqlpMeeAHwA"
      },
      "id": "nQqlpMeeAHwA",
      "execution_count": null,
      "outputs": []
    },
    {
      "cell_type": "code",
      "execution_count": null,
      "id": "9e7a419c",
      "metadata": {
        "id": "9e7a419c"
      },
      "outputs": [],
      "source": [
        "plt.plot(r,ff.analytical_middle()[3]*ff.analytical_middle()[2])"
      ]
    },
    {
      "cell_type": "code",
      "execution_count": null,
      "id": "a3fff292",
      "metadata": {
        "id": "a3fff292"
      },
      "outputs": [],
      "source": [
        "plt.plot(r,SS.analytical_middle(10,m_edd(10)/Msun,0.2,r)[0])"
      ]
    },
    {
      "cell_type": "code",
      "execution_count": null,
      "id": "b850eefd",
      "metadata": {
        "id": "b850eefd"
      },
      "outputs": [],
      "source": [
        "class trial:\n",
        "    \n",
        "    def __init__(self,a,b,c):\n",
        "        self.x = 2 + b\n",
        "        self.y = self.x**2 \n",
        "        self.z = self.x + self.y\n",
        "    def out(self):\n",
        "        return (self.x,self.y,self.z)\n",
        "    \n",
        "    def testing(self,extra):\n",
        "      return self.x + extra\n",
        "    \n",
        "    def test2(self):\n",
        "      return self.testing()\n",
        "\n",
        "    def test3(self,x,y):\n",
        "      return(x+y)"
      ]
    },
    {
      "cell_type": "code",
      "execution_count": null,
      "id": "d175f51f",
      "metadata": {
        "id": "d175f51f"
      },
      "outputs": [],
      "source": [
        "gg = trial(1,2,3)\n",
        "gg.test3(43.2,0.8)"
      ]
    },
    {
      "cell_type": "code",
      "execution_count": null,
      "id": "22c35abe",
      "metadata": {
        "id": "22c35abe"
      },
      "outputs": [],
      "source": [
        "m_edd(10)/Msun"
      ]
    },
    {
      "cell_type": "code",
      "execution_count": null,
      "id": "4b875e27",
      "metadata": {
        "id": "4b875e27"
      },
      "outputs": [],
      "source": []
    }
  ],
  "metadata": {
    "kernelspec": {
      "display_name": "Python 3 (ipykernel)",
      "language": "python",
      "name": "python3"
    },
    "language_info": {
      "codemirror_mode": {
        "name": "ipython",
        "version": 3
      },
      "file_extension": ".py",
      "mimetype": "text/x-python",
      "name": "python",
      "nbconvert_exporter": "python",
      "pygments_lexer": "ipython3",
      "version": "3.8.8"
    },
    "colab": {
      "provenance": []
    }
  },
  "nbformat": 4,
  "nbformat_minor": 5
}