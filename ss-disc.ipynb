{
 "cells": [
  {
   "cell_type": "code",
   "execution_count": 203,
   "id": "40ca8232",
   "metadata": {},
   "outputs": [],
   "source": [
    "G = 6.67384e-8 # cm^3/g/s^2\n",
    "c = 2.99792458e10 # speed of light  / cm/s\n",
    "kB = 1.3806488e-16 # Boltzmann const / erg/K\n",
    "mH = 1.66053892e-24 # atomic mass unit / g\n",
    "me = 9.1093898e-28 # electron mass / g\n",
    "alphaEM = 1/137.0359895 # fine structure constant\n",
    "sigmaT = 8*np.pi/3*(alphaEM*hbar/me/c)**2 # Thomson cross section / cm^2\n",
    "a_rad =  np.pi**2/15*kB*(kB/hbar/c)**3 # radiation const / erg/cm^3/K^4\n",
    "stefan = a_rad*c/4 # Stefan-Boltzmann const / erg/cm^2/s/K^4\n",
    "eV = 1.60217733e-12 # 1 electron volt / erg\n",
    "keV = 1e3*eV\n",
    "Msun = 1.98892e33 # solar mass / g\n",
    "\n",
    "kappa_es = 0.4 # opacity by electron scattering / cm^2/g\n",
    "kappa_0 = 6.45e22 # krammers opacity at (rho,T)=(1,1) in cgs\n",
    "nu_0 = 2.4e21*15 # electron-ion coupling (Coulomb log = 15)"
   ]
  },
  {
   "cell_type": "code",
   "execution_count": 204,
   "id": "f0048c6c",
   "metadata": {},
   "outputs": [],
   "source": [
    "import numpy as np\n",
    "import matplotlib.pyplot as plt"
   ]
  },
  {
   "cell_type": "code",
   "execution_count": 220,
   "id": "e4bdbccf",
   "metadata": {},
   "outputs": [],
   "source": [
    "def schwarz(M):\n",
    "    '''\n",
    "    give M in Msuns\n",
    "    out in cms\n",
    "    '''\n",
    "    return 2*G*(M*Msun)/(c**2)\n",
    "\n",
    "def m_edd(M):\n",
    "    '''\n",
    "    give M in MSuns\n",
    "    out in g/s\n",
    "    '''\n",
    "    epsilon = 0.1\n",
    "    return (4*np.pi*G*(M*Msun)*mH)/(epsilon*c*sigmaT)\n",
    "\n",
    "\n",
    "def omega(M,r):\n",
    "    '''\n",
    "    M in Msun\n",
    "    r in rschwarz\n",
    "    '''\n",
    "    return (G*M*Msun/((r*schwarz(M))**3))**0.5\n",
    "\n",
    "\n",
    "def domega_dr(M,r):\n",
    "    '''\n",
    "    M in Msun\n",
    "    r in rschwarz\n",
    "    '''\n",
    "    return (1.5)*(G*M*Msun/((r*schwarz(M))**5))**0.5\n",
    "\n",
    "\n",
    "def d2omega_d2r(M,r):\n",
    "    '''\n",
    "    M in Msun\n",
    "    r in rschwarz\n",
    "    '''\n",
    "    return (15/4)*(G*M*Msun/((r*schwarz(M))**3))**0.5\n",
    "\n",
    "def sigma_ana(Mdot,r,r_star,nu):\n",
    "    '''\n",
    "    Mdot in msun/second\n",
    "    r in schwarz\n",
    "    r_star in schwarz\n",
    "    '''\n",
    "    \n",
    "    return (Mdot*Msun/(3*np.pi*nu))*(1-(r_star/r)**0.5)\n",
    "\n",
    "\n"
   ]
  },
  {
   "cell_type": "code",
   "execution_count": 206,
   "id": "f485c56f",
   "metadata": {},
   "outputs": [],
   "source": [
    "def dsigma_dr(r,sigma,M,Mdot,nu):\n",
    "    \n",
    "    num = 2*(r*schwarz(M))*(Mdot*Msun) + domega_dr(M,r) - 2*np.pi*nu*(r*schwarz(M))**3*sigma*d2omega_d2r(M,r) - 4*np.pi*sigma*nu*domega_dr(M,r)*(r*schwarz(M))**2\n",
    "    \n",
    "    den = 2*np.pi*nu*domega_dr(M,r)*(r*schwarz(M))**3\n",
    "    \n",
    "    return np.divide(num,den)\n"
   ]
  },
  {
   "cell_type": "markdown",
   "id": "91057f38",
   "metadata": {},
   "source": [
    "# RK-4 Solution"
   ]
  },
  {
   "cell_type": "markdown",
   "id": "7c0dbd8b",
   "metadata": {},
   "source": [
    "In my original notebook, both the numerical as well as the analytical solution had the same shape, but since I have rewritten it (the old one got deleted as I messaged Prof. Wise on teams), the numerical one is flipped for some reason. I am still trying to figure this out. I suspect it must have something to do with units/ not keeping track of the units"
   ]
  },
  {
   "cell_type": "code",
   "execution_count": null,
   "id": "6425cbb6",
   "metadata": {},
   "outputs": [],
   "source": [
    "M = 10\n",
    "Mdot = m_edd(10)/Msun\n",
    "nu = 0.5\n",
    "r_star = 3"
   ]
  },
  {
   "cell_type": "code",
   "execution_count": 199,
   "id": "97762218",
   "metadata": {},
   "outputs": [],
   "source": [
    "N = 100\n",
    "r0 = 3\n",
    "r_end = 10\n",
    "h = (r_end-r0)/N\n",
    "r = np.arange(a,b,h)\n",
    "sigmas = np.zeros(N)\n",
    "s0 = 0\n",
    "sigmas[0] = 0\n",
    "#r = r0\n",
    "for i in range (1,N):\n",
    "    s = sigmas[i]\n",
    "    k1 = h * dsigma_dr(r[i],s,M,Mdot,nu)\n",
    "    k2 = h * dsigma_dr(r[i] + 0.5 * h, s + 0.5 * k1,M,Mdot,nu)\n",
    "    k3 = h * dsigma_dr(r[i] + 0.5 * h, s + 0.5 * k2,M,Mdot,nu)\n",
    "    k4 = h * dsigma_dr(r[i] + h, s + k3,M,Mdot,nu)\n",
    "    \n",
    "    sigmas[i] = s + (1/6)*(k1 + 2*k2 + 2*k3 + k4)"
   ]
  },
  {
   "cell_type": "code",
   "execution_count": 162,
   "id": "24673d43",
   "metadata": {},
   "outputs": [
    {
     "data": {
      "text/plain": [
       "1.3888323831092627e+19"
      ]
     },
     "execution_count": 162,
     "metadata": {},
     "output_type": "execute_result"
    }
   ],
   "source": [
    "Mdot*Msun"
   ]
  },
  {
   "cell_type": "code",
   "execution_count": 198,
   "id": "2e772f67",
   "metadata": {},
   "outputs": [
    {
     "data": {
      "text/plain": [
       "-27368502143775.664"
      ]
     },
     "execution_count": 198,
     "metadata": {},
     "output_type": "execute_result"
    }
   ],
   "source": [
    "k2"
   ]
  },
  {
   "cell_type": "code",
   "execution_count": 202,
   "id": "7067dddd",
   "metadata": {},
   "outputs": [
    {
     "data": {
      "text/plain": [
       "[<matplotlib.lines.Line2D at 0x7fb2d6e2c7c0>]"
      ]
     },
     "execution_count": 202,
     "metadata": {},
     "output_type": "execute_result"
    },
    {
     "data": {
      "image/png": "[encoded data removed]",
      "text/plain": [
       "<Figure size 640x480 with 1 Axes>"
      ]
     },
     "metadata": {},
     "output_type": "display_data"
    }
   ],
   "source": [
    "plt.plot(r,sigmas)\n",
    "#plt.plot(r,sigmas)"
   ]
  },
  {
   "cell_type": "code",
   "execution_count": 95,
   "id": "f1a6e038",
   "metadata": {},
   "outputs": [
    {
     "name": "stderr",
     "output_type": "stream",
     "text": [
      "/tmp/ipykernel_12209/524352976.py:30: RuntimeWarning: divide by zero encountered in double_scalars\n",
      "  return (-3/2)*(G*M*Msun/((r*schwarz(M))**5))**0.5\n",
      "/tmp/ipykernel_12209/524352976.py:38: RuntimeWarning: divide by zero encountered in double_scalars\n",
      "  return (15/4)*(G*M*Msun/((r*schwarz(M))**3))**0.5\n",
      "/tmp/ipykernel_12209/1777392283.py:3: RuntimeWarning: invalid value encountered in double_scalars\n",
      "  num = 2*(r*schwarz(M))*(Mdot*Msun) + domega_dr(M,r) - 2*np.pi*nu*(r*schwarz(M))**3*sigma*d2omega_d2r(M,r) - 4*np.pi*sigma*nu*domega_dr(M,r)*(r*schwarz(M))**2\n",
      "/tmp/ipykernel_12209/1777392283.py:5: RuntimeWarning: invalid value encountered in double_scalars\n",
      "  den = 2*np.pi*nu*domega_dr(M,r)*(r*schwarz(M))**3\n"
     ]
    },
    {
     "data": {
      "text/plain": [
       "(nan, nan)"
      ]
     },
     "execution_count": 95,
     "metadata": {},
     "output_type": "execute_result"
    }
   ],
   "source": [
    "dsigma_dr(r[2],sigmas[2],M,Mdot,nu)"
   ]
  },
  {
   "cell_type": "code",
   "execution_count": 96,
   "id": "366096e8",
   "metadata": {},
   "outputs": [
    {
     "data": {
      "text/plain": [
       "array([3.  , 3.07, 3.14, 3.21, 3.28, 3.35, 3.42, 3.49, 3.56, 3.63, 3.7 ,\n",
       "       3.77, 3.84, 3.91, 3.98, 4.05, 4.12, 4.19, 4.26, 4.33, 4.4 , 4.47,\n",
       "       4.54, 4.61, 4.68, 4.75, 4.82, 4.89, 4.96, 5.03, 5.1 , 5.17, 5.24,\n",
       "       5.31, 5.38, 5.45, 5.52, 5.59, 5.66, 5.73, 5.8 , 5.87, 5.94, 6.01,\n",
       "       6.08, 6.15, 6.22, 6.29, 6.36, 6.43, 6.5 , 6.57, 6.64, 6.71, 6.78,\n",
       "       6.85, 6.92, 6.99, 7.06, 7.13, 7.2 , 7.27, 7.34, 7.41, 7.48, 7.55,\n",
       "       7.62, 7.69, 7.76, 7.83, 7.9 , 7.97, 8.04, 8.11, 8.18, 8.25, 8.32,\n",
       "       8.39, 8.46, 8.53, 8.6 , 8.67, 8.74, 8.81, 8.88, 8.95, 9.02, 9.09,\n",
       "       9.16, 9.23, 9.3 , 9.37, 9.44, 9.51, 9.58, 9.65, 9.72, 9.79, 9.86,\n",
       "       9.93])"
      ]
     },
     "execution_count": 96,
     "metadata": {},
     "output_type": "execute_result"
    }
   ],
   "source": [
    "r"
   ]
  },
  {
   "cell_type": "markdown",
   "id": "edce66f9",
   "metadata": {},
   "source": [
    "# Analytical"
   ]
  },
  {
   "cell_type": "code",
   "execution_count": 86,
   "id": "9c8f37f7",
   "metadata": {},
   "outputs": [
    {
     "data": {
      "text/plain": [
       "[<matplotlib.lines.Line2D at 0x7fb2d76014c0>]"
      ]
     },
     "execution_count": 86,
     "metadata": {},
     "output_type": "execute_result"
    },
    {
     "data": {
      "image/png": "[encoded data removed]",
      "text/plain": [
       "<Figure size 640x480 with 1 Axes>"
      ]
     },
     "metadata": {},
     "output_type": "display_data"
    }
   ],
   "source": [
    "M = 10\n",
    "r = np.linspace(3,10,100)\n",
    "Mdot = m_edd(10)/Msun\n",
    "nu = 0.5\n",
    "r_star = 3\n",
    "\n",
    "density = sigma_ana(Mdot,r,r_star,nu)\n",
    "plt.plot(r,density)"
   ]
  },
  {
   "cell_type": "code",
   "execution_count": 85,
   "id": "c41a1cc0",
   "metadata": {},
   "outputs": [
    {
     "data": {
      "text/plain": [
       "[<matplotlib.lines.Line2D at 0x7fb2d7bba1f0>]"
      ]
     },
     "execution_count": 85,
     "metadata": {},
     "output_type": "execute_result"
    },
    {
     "data": {
      "image/png": "[encoded data removed]",
      "text/plain": [
       "<Figure size 640x480 with 1 Axes>"
      ]
     },
     "metadata": {},
     "output_type": "display_data"
    }
   ],
   "source": []
  },
  {
   "cell_type": "code",
   "execution_count": 57,
   "id": "335ce7c9",
   "metadata": {},
   "outputs": [
    {
     "data": {
      "text/plain": [
       "2953804.1430717465"
      ]
     },
     "execution_count": 57,
     "metadata": {},
     "output_type": "execute_result"
    }
   ],
   "source": [
    "schwarz(10)"
   ]
  },
  {
   "cell_type": "code",
   "execution_count": 251,
   "id": "7f247dcb",
   "metadata": {},
   "outputs": [],
   "source": [
    "class SS:\n",
    "    def __init__(self, M, M_dot, alpha, r_out, r_in=3):\n",
    "        \"\"\"\n",
    "        M = mass of black hole / solar mass\n",
    "        M_dot = mass accretion rate \n",
    "        alpha = viscosity parameter (0<alpha<=1)\n",
    "        r_out = radius of disk's outer edge \n",
    "        r_in = radius of disk's inner edge \n",
    "\n",
    "        \"\"\"\n",
    "        rg = 2*G*M*Msun/2.99792458e10**2\n",
    "        self.M = M*Msun\n",
    "        self.M_dot = M_dot*M*MEsun\n",
    "        self.alpha = alpha\n",
    "        self.r_in = r_in*rg\n",
    "        self.r_out = r_out*rg\n",
    "        self.r = np.geomspace(self.r_in, self.r_out, N+1)[1:]\n",
    "        self.y = StandardModel.solve(self, self.r)\n"
   ]
  },
  {
   "cell_type": "code",
   "execution_count": null,
   "id": "4c0567ce",
   "metadata": {},
   "outputs": [],
   "source": []
  }
 ],
 "metadata": {},
 "nbformat": 4,
 "nbformat_minor": 5
}
